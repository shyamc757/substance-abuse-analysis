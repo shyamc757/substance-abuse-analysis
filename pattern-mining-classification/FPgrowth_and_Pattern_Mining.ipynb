{
 "cells": [
  {
   "cell_type": "code",
   "execution_count": 1,
   "metadata": {
    "colab": {
     "base_uri": "https://localhost:8080/"
    },
    "id": "yZTcPsG98XVg",
    "outputId": "5921b77b-17af-414f-d4c2-6576e71b142e"
   },
   "outputs": [
    {
     "name": "stdout",
     "output_type": "stream",
     "text": [
      "Mounted at /content/drive\n"
     ]
    }
   ],
   "source": [
    "from google.colab import drive\n",
    "drive.mount('/content/drive')"
   ]
  },
  {
   "cell_type": "code",
   "execution_count": 2,
   "metadata": {
    "colab": {
     "base_uri": "https://localhost:8080/"
    },
    "id": "nP_s4Fy38c7b",
    "outputId": "89a00954-a924-4b5a-e9ca-0ca4cebec62c"
   },
   "outputs": [
    {
     "name": "stderr",
     "output_type": "stream",
     "text": [
      "<ipython-input-2-d0659f955393>:2: DtypeWarning: Columns (12,15,16,17,18,19) have mixed types. Specify dtype option on import or set low_memory=False.\n",
      "  data = pd.read_csv(\"/content/drive/MyDrive/Data Mining Data /Cleaned_DAWN_Data_2004-2011.csv\")\n",
      "<ipython-input-2-d0659f955393>:8: DtypeWarning: Columns (8,13,16,17,18,19,20) have mixed types. Specify dtype option on import or set low_memory=False.\n",
      "  y_2009 = pd.read_csv(\"/content/drive/MyDrive/Data Mining Data /DAWN_Data_2009.csv\")\n"
     ]
    }
   ],
   "source": [
    "import pandas as pd\n",
    "data = pd.read_csv(\"/content/drive/MyDrive/Data Mining Data /Cleaned_DAWN_Data_2004-2011.csv\")\n",
    "y_2004 = pd.read_csv(\"/content/drive/MyDrive/Data Mining Data /DAWN_Data_2004.csv\")\n",
    "y_2005 = pd.read_csv(\"/content/drive/MyDrive/Data Mining Data /DAWN_Data_2005.csv\")\n",
    "y_2006 = pd.read_csv(\"/content/drive/MyDrive/Data Mining Data /DAWN_Data_2006.csv\")\n",
    "y_2007 = pd.read_csv(\"/content/drive/MyDrive/Data Mining Data /DAWN_Data_2007.csv\")\n",
    "y_2008 = pd.read_csv(\"/content/drive/MyDrive/Data Mining Data /DAWN_Data_2008.csv\")\n",
    "y_2009 = pd.read_csv(\"/content/drive/MyDrive/Data Mining Data /DAWN_Data_2009.csv\")\n",
    "y_2010 = pd.read_csv(\"/content/drive/MyDrive/Data Mining Data /DAWN_Data_2010.csv\")\n",
    "y_2011 = pd.read_csv(\"/content/drive/MyDrive/Data Mining Data /DAWN_Data_2011.csv\")\n",
    "\n",
    "dataframes = {\n",
    "    'y_2004': y_2004,\n",
    "    'y_2005': y_2005,\n",
    "    'y_2006': y_2006,\n",
    "    'y_2007': y_2007,\n",
    "    'y_2008': y_2008,\n",
    "    'y_2009': y_2009,\n",
    "    'y_2010': y_2010,\n",
    "    'y_2011': y_2011,\n",
    "}\n",
    "\n",
    "metro_mapping = {1:'MA',2:'NY',3:'IL',4:'MI',5:'MN',6:'FL',7:'TX',8:'LA',9:'CO',10:'AZ',11:'CA-SD',12:'CA-SF',13:'WA',14:'Other'}\n",
    "agecat_mapping = {1:'<=5',2:'6-11',3:'12-17',4:'18-20',5:'21-24',6:'25-29',7:'30-34',8:'35-44',9:'45-54',10:'55-64',11:'>=65',-8:'PNS'}\n",
    "sex_mapping = {1:'M',2:'F',-8:'PNS'}\n",
    "race_mapping = {1:'white only',2:'black or african american only',3:'any hispanic or latino',4:'all other races',-8:'PNS'}\n",
    "casetype_mapping = {1:'suicide attempt',2:'seeking detox',3:'alcohol only(age < 21)',4:'adverse reaction',5:'overmedication',6:'malicious poisoning',7:'accidental ingestion',8:'other'}\n",
    "disposition_mapping = {1:'discharged home',2:'released to police/jail',3:'reffered to detox/treatment',4:'ICU/critical care',5:'surgery',6:'chemical dependency/detox, psychiatric unit',7:'other inpatient unit',8:'transferred',9:'left against medical advice',10:'died',96:'other',-8:'PNS'}\n",
    "\n",
    "for df in dataframes.values():\n",
    "    df['METRO'] = df['METRO'].replace(metro_mapping)\n",
    "    df['AGECAT'] = df['AGECAT'].replace(agecat_mapping)\n",
    "    df['SEX'] = df['SEX'].replace(sex_mapping)\n",
    "    df['RACE'] = df['RACE'].replace(race_mapping)\n",
    "    df['CASETYPE'] = df['CASETYPE'].replace(casetype_mapping)\n",
    "    df['DISPOSITION'] = df['DISPOSITION'].replace(disposition_mapping)\n",
    "\n",
    "\n",
    "def map_age_category(agecat):\n",
    "    if agecat in ['<=5', '6-11', '12-17', '18-20', '21-24', '25-29']:\n",
    "        return 'Young'\n",
    "    elif agecat in ['30-34', '35-44','45-54']:\n",
    "        return 'Middle Age'\n",
    "    elif agecat in ['55-64', '>=65']:\n",
    "        return 'Old'\n",
    "    else:  # This will handle 'PNS' or any other unspecified categories\n",
    "        return 'Other'\n",
    "\n",
    "# Apply the mapping to each dataframe\n",
    "for year, df in dataframes.items():\n",
    "    df['AGECAT'] = df['AGECAT'].apply(map_age_category)\n",
    "\n",
    "import pandas as pd\n",
    "\n",
    "# Assuming y_2005 is your DataFrame\n",
    "# Create a column that identifies the type of substance used in each case\n",
    "def classify_substance(row):\n",
    "    if row['ALCOHOL'] == 1 and row['NUMSUBS'] == 1:\n",
    "        return 'Alcohol'\n",
    "    elif row['ALCOHOL'] == 1 and (row['NUMSUBS'] > 1):\n",
    "        return 'Alcohol_DRUGS'\n",
    "    elif row['ALCOHOL'] == 0 and (row['NUMSUBS']>0 ):\n",
    "        return 'DRUGS'\n",
    "    else:\n",
    "        return 'None'"
   ]
  },
  {
   "cell_type": "code",
   "execution_count": 3,
   "metadata": {
    "id": "CM6n_KdG8iV1"
   },
   "outputs": [],
   "source": [
    "y_2004['SUBSTANCE_TYPE'] = y_2004.apply(classify_substance, axis=1)\n",
    "sequences_2004 = y_2004.groupby('CASEID')['SUBSTANCE_TYPE'].apply(list)\n",
    "sequences_2004 = sequences_2004.apply(lambda x: ','.join(x))\n",
    "\n",
    "y_2005['SUBSTANCE_TYPE'] = y_2005.apply(classify_substance, axis=1)\n",
    "sequences_2005 = y_2005.groupby('CASEID')['SUBSTANCE_TYPE'].apply(list)\n",
    "sequences_2005 = sequences_2005.apply(lambda x: ','.join(x))\n",
    "\n",
    "y_2006['SUBSTANCE_TYPE'] = y_2006.apply(classify_substance, axis=1)\n",
    "sequences_2006 = y_2006.groupby('CASEID')['SUBSTANCE_TYPE'].apply(list)\n",
    "sequences_2006 = sequences_2006.apply(lambda x: ','.join(x))\n",
    "\n",
    "y_2007['SUBSTANCE_TYPE'] = y_2007.apply(classify_substance, axis=1)\n",
    "sequences_2007 = y_2007.groupby('CASEID')['SUBSTANCE_TYPE'].apply(list)\n",
    "sequences_2007 = sequences_2007.apply(lambda x: ','.join(x))\n",
    "\n",
    "y_2008['SUBSTANCE_TYPE'] = y_2008.apply(classify_substance, axis=1)\n",
    "sequences_2008 = y_2008.groupby('CASEID')['SUBSTANCE_TYPE'].apply(list)\n",
    "sequences_2008 = sequences_2008.apply(lambda x: ','.join(x))\n",
    "\n",
    "y_2009['SUBSTANCE_TYPE'] = y_2009.apply(classify_substance, axis=1)\n",
    "sequences_2009 = y_2009.groupby('CASEID')['SUBSTANCE_TYPE'].apply(list)\n",
    "sequences_2009 = sequences_2009.apply(lambda x: ','.join(x))\n",
    "\n",
    "y_2010['SUBSTANCE_TYPE'] = y_2010.apply(classify_substance, axis=1)\n",
    "sequences_2010 = y_2010.groupby('CASEID')['SUBSTANCE_TYPE'].apply(list)\n",
    "sequences_2010 = sequences_2010.apply(lambda x: ','.join(x))\n",
    "\n",
    "y_2011['SUBSTANCE_TYPE'] = y_2011.apply(classify_substance, axis=1)\n",
    "sequences_2011 = y_2011.groupby('CASEID')['SUBSTANCE_TYPE'].apply(list)\n",
    "sequences_2011 = sequences_2011.apply(lambda x: ','.join(x))"
   ]
  },
  {
   "cell_type": "code",
   "execution_count": 4,
   "metadata": {
    "id": "owxO-Zd08moL"
   },
   "outputs": [],
   "source": [
    "sequences_df = y_2004.groupby('CASEID')['SUBSTANCE_TYPE'].apply(list).reset_index(name='SEQUENCE')\n",
    "sequences_df['SEQUENCE'] = sequences_df['SEQUENCE'].apply(lambda x: ','.join(x))\n",
    "attributes_df = y_2004.drop_duplicates(subset='CASEID')[['CASEID', 'METRO', 'AGECAT', 'SEX', 'RACE', 'CASETYPE', 'DAYPART', 'QUARTER']]\n",
    "df_2004 = pd.merge(attributes_df, sequences_df, on='CASEID')\n",
    "\n",
    "sequences_df = y_2005.groupby('CASEID')['SUBSTANCE_TYPE'].apply(list).reset_index(name='SEQUENCE')\n",
    "sequences_df['SEQUENCE'] = sequences_df['SEQUENCE'].apply(lambda x: ','.join(x))\n",
    "attributes_df = y_2005.drop_duplicates(subset='CASEID')[['CASEID', 'METRO', 'AGECAT', 'SEX', 'RACE', 'CASETYPE', 'DAYPART', 'QUARTER']]\n",
    "df_2005 = pd.merge(attributes_df, sequences_df, on='CASEID')\n",
    "\n",
    "sequences_df = y_2006.groupby('CASEID')['SUBSTANCE_TYPE'].apply(list).reset_index(name='SEQUENCE')\n",
    "sequences_df['SEQUENCE'] = sequences_df['SEQUENCE'].apply(lambda x: ','.join(x))\n",
    "attributes_df = y_2006.drop_duplicates(subset='CASEID')[['CASEID', 'METRO', 'AGECAT', 'SEX', 'RACE', 'CASETYPE', 'DAYPART', 'QUARTER']]\n",
    "df_2006 = pd.merge(attributes_df, sequences_df, on='CASEID')\n",
    "\n",
    "sequences_df = y_2007.groupby('CASEID')['SUBSTANCE_TYPE'].apply(list).reset_index(name='SEQUENCE')\n",
    "sequences_df['SEQUENCE'] = sequences_df['SEQUENCE'].apply(lambda x: ','.join(x))\n",
    "attributes_df = y_2007.drop_duplicates(subset='CASEID')[['CASEID', 'METRO', 'AGECAT', 'SEX', 'RACE', 'CASETYPE', 'DAYPART', 'QUARTER']]\n",
    "df_2007 = pd.merge(attributes_df, sequences_df, on='CASEID')\n",
    "\n",
    "sequences_df = y_2008.groupby('CASEID')['SUBSTANCE_TYPE'].apply(list).reset_index(name='SEQUENCE')\n",
    "sequences_df['SEQUENCE'] = sequences_df['SEQUENCE'].apply(lambda x: ','.join(x))\n",
    "attributes_df = y_2008.drop_duplicates(subset='CASEID')[['CASEID', 'METRO', 'AGECAT', 'SEX', 'RACE', 'CASETYPE', 'DAYPART', 'QUARTER']]\n",
    "df_2008 = pd.merge(attributes_df, sequences_df, on='CASEID')\n",
    "\n",
    "sequences_df = y_2009.groupby('CASEID')['SUBSTANCE_TYPE'].apply(list).reset_index(name='SEQUENCE')\n",
    "sequences_df['SEQUENCE'] = sequences_df['SEQUENCE'].apply(lambda x: ','.join(x))\n",
    "attributes_df = y_2009.drop_duplicates(subset='CASEID')[['CASEID', 'METRO', 'AGECAT', 'SEX', 'RACE', 'CASETYPE', 'DAYPART', 'QUARTER']]\n",
    "df_2009 = pd.merge(attributes_df, sequences_df, on='CASEID')\n",
    "\n",
    "sequences_df = y_2010.groupby('CASEID')['SUBSTANCE_TYPE'].apply(list).reset_index(name='SEQUENCE')\n",
    "sequences_df['SEQUENCE'] = sequences_df['SEQUENCE'].apply(lambda x: ','.join(x))\n",
    "attributes_df = y_2010.drop_duplicates(subset='CASEID')[['CASEID', 'METRO', 'AGECAT', 'SEX', 'RACE', 'CASETYPE', 'DAYPART', 'QUARTER']]\n",
    "df_2010 = pd.merge(attributes_df, sequences_df, on='CASEID')\n",
    "\n",
    "sequences_df = y_2011.groupby('CASEID')['SUBSTANCE_TYPE'].apply(list).reset_index(name='SEQUENCE')\n",
    "sequences_df['SEQUENCE'] = sequences_df['SEQUENCE'].apply(lambda x: ','.join(x))\n",
    "attributes_df = y_2011.drop_duplicates(subset='CASEID')[['CASEID', 'METRO', 'AGECAT', 'SEX', 'RACE', 'CASETYPE', 'DAYPART', 'QUARTER']]\n",
    "df_2011 = pd.merge(attributes_df, sequences_df, on='CASEID')"
   ]
  },
  {
   "cell_type": "code",
   "execution_count": 5,
   "metadata": {
    "id": "mK36z6Ua8oUJ"
   },
   "outputs": [],
   "source": [
    "years = range(2004, 2012)\n",
    "sequences = ['Alcohol', 'DRUGS', 'Alcohol_DRUGS']\n",
    "data_lists = {}\n",
    "\n",
    "for year in years:\n",
    "\n",
    "    df = globals()[f'df_{year}']\n",
    "\n",
    "    for sequence in sequences:\n",
    "\n",
    "        filtered_df = df[df['SEQUENCE'] == sequence]\n",
    "\n",
    "\n",
    "        selected_columns = filtered_df[['METRO', 'AGECAT', 'RACE', 'CASETYPE']]\n",
    "\n",
    "\n",
    "        data_lists[f'{sequence}_{year}_list'] = selected_columns.values.tolist()"
   ]
  },
  {
   "cell_type": "code",
   "execution_count": 6,
   "metadata": {
    "id": "V0_IPeTD8scL"
   },
   "outputs": [],
   "source": [
    "Alcohol_Drugs_2004_list = data_lists.get('Alcohol_DRUGS_2004_list', [])\n",
    "metro_Alcohol_Drugs_2004 = {}\n",
    "for item in Alcohol_Drugs_2004_list:\n",
    "    metro = item[0]\n",
    "    metro_Alcohol_Drugs_2004.setdefault(metro, []).append(item[1:])\n",
    "\n",
    "\n",
    "MA_Alcohol_Drugs_list_2004 = metro_Alcohol_Drugs_2004.get('MA', [])\n",
    "NY_Alcohol_Drugs_list_2004 = metro_Alcohol_Drugs_2004.get('NY', [])\n",
    "IL_Alcohol_Drugs_list_2004 = metro_Alcohol_Drugs_2004.get('IL', [])\n",
    "MI_Alcohol_Drugs_list_2004 = metro_Alcohol_Drugs_2004.get('MI', [])\n",
    "MN_Alcohol_Drugs_list_2004 = metro_Alcohol_Drugs_2004.get('MN', [])\n",
    "FL_Alcohol_Drugs_list_2004 = metro_Alcohol_Drugs_2004.get('FL', [])\n",
    "TX_Alcohol_Drugs_list_2004 = metro_Alcohol_Drugs_2004.get('TX', [])\n",
    "LA_Alcohol_Drugs_list_2004 = metro_Alcohol_Drugs_2004.get('LA', [])\n",
    "CO_Alcohol_Drugs_list_2004 = metro_Alcohol_Drugs_2004.get('CO', [])\n",
    "AZ_Alcohol_Drugs_list_2004 = metro_Alcohol_Drugs_2004.get('AZ', [])\n",
    "CASD_Alcohol_Drugs_list_2004 = metro_Alcohol_Drugs_2004.get('CA-SD', [])\n",
    "CASF_Alcohol_Drugs_list_2004 = metro_Alcohol_Drugs_2004.get('CA-SF', [])\n",
    "WA_Alcohol_Drugs_list_2004 = metro_Alcohol_Drugs_2004.get('WA', [])\n",
    "Other_Alcohol_Drugs_list_2004 = metro_Alcohol_Drugs_2004.get('Other', [])\n",
    "\n",
    "Alcohol_Drugs_2005_list = data_lists.get('Alcohol_DRUGS_2005_list', [])\n",
    "metro_Alcohol_Drugs_2005 = {}\n",
    "for item in Alcohol_Drugs_2005_list:\n",
    "    metro = item[0]\n",
    "    metro_Alcohol_Drugs_2005.setdefault(metro, []).append(item[1:])\n",
    "\n",
    "\n",
    "MA_Alcohol_Drugs_list_2005 = metro_Alcohol_Drugs_2005.get('MA', [])\n",
    "NY_Alcohol_Drugs_list_2005 = metro_Alcohol_Drugs_2005.get('NY', [])\n",
    "IL_Alcohol_Drugs_list_2005 = metro_Alcohol_Drugs_2005.get('IL', [])\n",
    "MI_Alcohol_Drugs_list_2005 = metro_Alcohol_Drugs_2005.get('MI', [])\n",
    "MN_Alcohol_Drugs_list_2005 = metro_Alcohol_Drugs_2005.get('MN', [])\n",
    "FL_Alcohol_Drugs_list_2005 = metro_Alcohol_Drugs_2005.get('FL', [])\n",
    "TX_Alcohol_Drugs_list_2005 = metro_Alcohol_Drugs_2005.get('TX', [])\n",
    "LA_Alcohol_Drugs_list_2005 = metro_Alcohol_Drugs_2005.get('LA', [])\n",
    "CO_Alcohol_Drugs_list_2005 = metro_Alcohol_Drugs_2005.get('CO', [])\n",
    "AZ_Alcohol_Drugs_list_2005 = metro_Alcohol_Drugs_2005.get('AZ', [])\n",
    "CASD_Alcohol_Drugs_list_2005 = metro_Alcohol_Drugs_2005.get('CA-SD', [])\n",
    "CASF_Alcohol_Drugs_list_2005 = metro_Alcohol_Drugs_2005.get('CA-SF', [])\n",
    "WA_Alcohol_Drugs_list_2005 = metro_Alcohol_Drugs_2005.get('WA', [])\n",
    "Other_Alcohol_Drugs_list_2005 = metro_Alcohol_Drugs_2005.get('Other', [])\n",
    "\n",
    "Alcohol_Drugs_2006_list = data_lists.get('Alcohol_DRUGS_2006_list', [])\n",
    "metro_Alcohol_Drugs_2006 = {}\n",
    "for item in Alcohol_Drugs_2006_list:\n",
    "    metro = item[0]\n",
    "    metro_Alcohol_Drugs_2006.setdefault(metro, []).append(item[1:])\n",
    "\n",
    "\n",
    "MA_Alcohol_Drugs_list_2006 = metro_Alcohol_Drugs_2006.get('MA', [])\n",
    "NY_Alcohol_Drugs_list_2006 = metro_Alcohol_Drugs_2006.get('NY', [])\n",
    "IL_Alcohol_Drugs_list_2006 = metro_Alcohol_Drugs_2006.get('IL', [])\n",
    "MI_Alcohol_Drugs_list_2006 = metro_Alcohol_Drugs_2006.get('MI', [])\n",
    "MN_Alcohol_Drugs_list_2006 = metro_Alcohol_Drugs_2006.get('MN', [])\n",
    "FL_Alcohol_Drugs_list_2006 = metro_Alcohol_Drugs_2006.get('FL', [])\n",
    "TX_Alcohol_Drugs_list_2006 = metro_Alcohol_Drugs_2006.get('TX', [])\n",
    "LA_Alcohol_Drugs_list_2006 = metro_Alcohol_Drugs_2006.get('LA', [])\n",
    "CO_Alcohol_Drugs_list_2006 = metro_Alcohol_Drugs_2006.get('CO', [])\n",
    "AZ_Alcohol_Drugs_list_2006 = metro_Alcohol_Drugs_2006.get('AZ', [])\n",
    "CASD_Alcohol_Drugs_list_2006 = metro_Alcohol_Drugs_2006.get('CA-SD', [])\n",
    "CASF_Alcohol_Drugs_list_2006 = metro_Alcohol_Drugs_2006.get('CA-SF', [])\n",
    "WA_Alcohol_Drugs_list_2006 = metro_Alcohol_Drugs_2006.get('WA', [])\n",
    "Other_Alcohol_Drugs_list_2006 = metro_Alcohol_Drugs_2006.get('Other', [])\n",
    "\n",
    "Alcohol_Drugs_2007_list = data_lists.get('Alcohol_DRUGS_2007_list', [])\n",
    "metro_Alcohol_Drugs_2007 = {}\n",
    "for item in Alcohol_Drugs_2007_list:\n",
    "    metro = item[0]\n",
    "    metro_Alcohol_Drugs_2007.setdefault(metro, []).append(item[1:])\n",
    "\n",
    "\n",
    "MA_Alcohol_Drugs_list_2007 = metro_Alcohol_Drugs_2007.get('MA', [])\n",
    "NY_Alcohol_Drugs_list_2007 = metro_Alcohol_Drugs_2007.get('NY', [])\n",
    "IL_Alcohol_Drugs_list_2007 = metro_Alcohol_Drugs_2007.get('IL', [])\n",
    "MI_Alcohol_Drugs_list_2007 = metro_Alcohol_Drugs_2007.get('MI', [])\n",
    "MN_Alcohol_Drugs_list_2007 = metro_Alcohol_Drugs_2007.get('MN', [])\n",
    "FL_Alcohol_Drugs_list_2007 = metro_Alcohol_Drugs_2007.get('FL', [])\n",
    "TX_Alcohol_Drugs_list_2007 = metro_Alcohol_Drugs_2007.get('TX', [])\n",
    "LA_Alcohol_Drugs_list_2007 = metro_Alcohol_Drugs_2007.get('LA', [])\n",
    "CO_Alcohol_Drugs_list_2007 = metro_Alcohol_Drugs_2007.get('CO', [])\n",
    "AZ_Alcohol_Drugs_list_2007 = metro_Alcohol_Drugs_2007.get('AZ', [])\n",
    "CASD_Alcohol_Drugs_list_2007 = metro_Alcohol_Drugs_2007.get('CA-SD', [])\n",
    "CASF_Alcohol_Drugs_list_2007 = metro_Alcohol_Drugs_2007.get('CA-SF', [])\n",
    "WA_Alcohol_Drugs_list_2007 = metro_Alcohol_Drugs_2007.get('WA', [])\n",
    "Other_Alcohol_Drugs_list_2007 = metro_Alcohol_Drugs_2007.get('Other', [])\n",
    "\n",
    "Alcohol_Drugs_2008_list = data_lists.get('Alcohol_DRUGS_2008_list', [])\n",
    "metro_Alcohol_Drugs_2008 = {}\n",
    "for item in Alcohol_Drugs_2008_list:\n",
    "    metro = item[0]\n",
    "    metro_Alcohol_Drugs_2008.setdefault(metro, []).append(item[1:])\n",
    "\n",
    "\n",
    "MA_Alcohol_Drugs_list_2008 = metro_Alcohol_Drugs_2008.get('MA', [])\n",
    "NY_Alcohol_Drugs_list_2008 = metro_Alcohol_Drugs_2008.get('NY', [])\n",
    "IL_Alcohol_Drugs_list_2008 = metro_Alcohol_Drugs_2008.get('IL', [])\n",
    "MI_Alcohol_Drugs_list_2008 = metro_Alcohol_Drugs_2008.get('MI', [])\n",
    "MN_Alcohol_Drugs_list_2008 = metro_Alcohol_Drugs_2008.get('MN', [])\n",
    "FL_Alcohol_Drugs_list_2008 = metro_Alcohol_Drugs_2008.get('FL', [])\n",
    "TX_Alcohol_Drugs_list_2008 = metro_Alcohol_Drugs_2008.get('TX', [])\n",
    "LA_Alcohol_Drugs_list_2008 = metro_Alcohol_Drugs_2008.get('LA', [])\n",
    "CO_Alcohol_Drugs_list_2008 = metro_Alcohol_Drugs_2008.get('CO', [])\n",
    "AZ_Alcohol_Drugs_list_2008 = metro_Alcohol_Drugs_2008.get('AZ', [])\n",
    "CASD_Alcohol_Drugs_list_2008 = metro_Alcohol_Drugs_2008.get('CA-SD', [])\n",
    "CASF_Alcohol_Drugs_list_2008 = metro_Alcohol_Drugs_2008.get('CA-SF', [])\n",
    "WA_Alcohol_Drugs_list_2008 = metro_Alcohol_Drugs_2008.get('WA', [])\n",
    "Other_Alcohol_Drugs_list_2008 = metro_Alcohol_Drugs_2008.get('Other', [])\n",
    "\n",
    "Alcohol_Drugs_2009_list = data_lists.get('Alcohol_DRUGS_2009_list', [])\n",
    "metro_Alcohol_Drugs_2009 = {}\n",
    "for item in Alcohol_Drugs_2009_list:\n",
    "    metro = item[0]\n",
    "    metro_Alcohol_Drugs_2009.setdefault(metro, []).append(item[1:])\n",
    "\n",
    "\n",
    "MA_Alcohol_Drugs_list_2009 = metro_Alcohol_Drugs_2009.get('MA', [])\n",
    "NY_Alcohol_Drugs_list_2009 = metro_Alcohol_Drugs_2009.get('NY', [])\n",
    "IL_Alcohol_Drugs_list_2009 = metro_Alcohol_Drugs_2009.get('IL', [])\n",
    "MI_Alcohol_Drugs_list_2009 = metro_Alcohol_Drugs_2009.get('MI', [])\n",
    "MN_Alcohol_Drugs_list_2009 = metro_Alcohol_Drugs_2009.get('MN', [])\n",
    "FL_Alcohol_Drugs_list_2009 = metro_Alcohol_Drugs_2009.get('FL', [])\n",
    "TX_Alcohol_Drugs_list_2009 = metro_Alcohol_Drugs_2009.get('TX', [])\n",
    "LA_Alcohol_Drugs_list_2009 = metro_Alcohol_Drugs_2009.get('LA', [])\n",
    "CO_Alcohol_Drugs_list_2009 = metro_Alcohol_Drugs_2009.get('CO', [])\n",
    "AZ_Alcohol_Drugs_list_2009 = metro_Alcohol_Drugs_2009.get('AZ', [])\n",
    "CASD_Alcohol_Drugs_list_2009 = metro_Alcohol_Drugs_2009.get('CA-SD', [])\n",
    "CASF_Alcohol_Drugs_list_2009 = metro_Alcohol_Drugs_2009.get('CA-SF', [])\n",
    "WA_Alcohol_Drugs_list_2009 = metro_Alcohol_Drugs_2009.get('WA', [])\n",
    "Other_Alcohol_Drugs_list_2009 = metro_Alcohol_Drugs_2009.get('Other', [])\n",
    "\n",
    "Alcohol_Drugs_2010_list = data_lists.get('Alcohol_DRUGS_2010_list', [])\n",
    "metro_Alcohol_Drugs_2010 = {}\n",
    "for item in Alcohol_Drugs_2010_list:\n",
    "    metro = item[0]\n",
    "    metro_Alcohol_Drugs_2010.setdefault(metro, []).append(item[1:])\n",
    "\n",
    "\n",
    "MA_Alcohol_Drugs_list_2010 = metro_Alcohol_Drugs_2010.get('MA', [])\n",
    "NY_Alcohol_Drugs_list_2010 = metro_Alcohol_Drugs_2010.get('NY', [])\n",
    "IL_Alcohol_Drugs_list_2010 = metro_Alcohol_Drugs_2010.get('IL', [])\n",
    "MI_Alcohol_Drugs_list_2010 = metro_Alcohol_Drugs_2010.get('MI', [])\n",
    "MN_Alcohol_Drugs_list_2010 = metro_Alcohol_Drugs_2010.get('MN', [])\n",
    "FL_Alcohol_Drugs_list_2010 = metro_Alcohol_Drugs_2010.get('FL', [])\n",
    "TX_Alcohol_Drugs_list_2010 = metro_Alcohol_Drugs_2010.get('TX', [])\n",
    "LA_Alcohol_Drugs_list_2010 = metro_Alcohol_Drugs_2010.get('LA', [])\n",
    "CO_Alcohol_Drugs_list_2010 = metro_Alcohol_Drugs_2010.get('CO', [])\n",
    "AZ_Alcohol_Drugs_list_2010 = metro_Alcohol_Drugs_2010.get('AZ', [])\n",
    "CASD_Alcohol_Drugs_list_2010 = metro_Alcohol_Drugs_2010.get('CA-SD', [])\n",
    "CASF_Alcohol_Drugs_list_2010 = metro_Alcohol_Drugs_2010.get('CA-SF', [])\n",
    "WA_Alcohol_Drugs_list_2010 = metro_Alcohol_Drugs_2010.get('WA', [])\n",
    "Other_Alcohol_Drugs_list_2010 = metro_Alcohol_Drugs_2010.get('Other', [])\n",
    "\n",
    "Alcohol_Drugs_2011_list = data_lists.get('Alcohol_DRUGS_2011_list', [])\n",
    "metro_Alcohol_Drugs_2011 = {}\n",
    "for item in Alcohol_Drugs_2011_list:\n",
    "    metro = item[0]\n",
    "    metro_Alcohol_Drugs_2011.setdefault(metro, []).append(item[1:])\n",
    "\n",
    "\n",
    "MA_Alcohol_Drugs_list_2011 = metro_Alcohol_Drugs_2011.get('MA', [])\n",
    "NY_Alcohol_Drugs_list_2011 = metro_Alcohol_Drugs_2011.get('NY', [])\n",
    "IL_Alcohol_Drugs_list_2011 = metro_Alcohol_Drugs_2011.get('IL', [])\n",
    "MI_Alcohol_Drugs_list_2011 = metro_Alcohol_Drugs_2011.get('MI', [])\n",
    "MN_Alcohol_Drugs_list_2011 = metro_Alcohol_Drugs_2011.get('MN', [])\n",
    "FL_Alcohol_Drugs_list_2011 = metro_Alcohol_Drugs_2011.get('FL', [])\n",
    "TX_Alcohol_Drugs_list_2011 = metro_Alcohol_Drugs_2011.get('TX', [])\n",
    "LA_Alcohol_Drugs_list_2011 = metro_Alcohol_Drugs_2011.get('LA', [])\n",
    "CO_Alcohol_Drugs_list_2011 = metro_Alcohol_Drugs_2011.get('CO', [])\n",
    "AZ_Alcohol_Drugs_list_2011 = metro_Alcohol_Drugs_2011.get('AZ', [])\n",
    "CASD_Alcohol_Drugs_list_2011 = metro_Alcohol_Drugs_2011.get('CA-SD', [])\n",
    "CASF_Alcohol_Drugs_list_2011 = metro_Alcohol_Drugs_2011.get('CA-SF', [])\n",
    "WA_Alcohol_Drugs_list_2011 = metro_Alcohol_Drugs_2011.get('WA', [])\n",
    "Other_Alcohol_Drugs_list_2011 = metro_Alcohol_Drugs_2011.get('Other', [])\n"
   ]
  },
  {
   "cell_type": "code",
   "execution_count": 7,
   "metadata": {
    "id": "_NdOxJVl8umP"
   },
   "outputs": [],
   "source": [
    "Drugs_2004_list = data_lists.get('DRUGS_2004_list', [])\n",
    "metro_drugs_2004 = {}\n",
    "for item in Drugs_2004_list:\n",
    "    metro = item[0]\n",
    "    metro_drugs_2004.setdefault(metro, []).append(item[1:])\n",
    "\n",
    "\n",
    "MA_drugs_list_2004 = metro_drugs_2004.get('MA', [])\n",
    "NY_drugs_list_2004 = metro_drugs_2004.get('NY', [])\n",
    "IL_drugs_list_2004 = metro_drugs_2004.get('IL', [])\n",
    "MI_drugs_list_2004 = metro_drugs_2004.get('MI', [])\n",
    "MN_drugs_list_2004 = metro_drugs_2004.get('MN', [])\n",
    "FL_drugs_list_2004 = metro_drugs_2004.get('FL', [])\n",
    "TX_drugs_list_2004 = metro_drugs_2004.get('TX', [])\n",
    "LA_drugs_list_2004 = metro_drugs_2004.get('LA', [])\n",
    "CO_drugs_list_2004 = metro_drugs_2004.get('CO', [])\n",
    "AZ_drugs_list_2004 = metro_drugs_2004.get('AZ', [])\n",
    "CASD_drugs_list_2004 = metro_drugs_2004.get('CA-SD', [])\n",
    "CASF_drugs_list_2004 = metro_drugs_2004.get('CA-SF', [])\n",
    "WA_drugs_list_2004 = metro_drugs_2004.get('WA', [])\n",
    "Other_drugs_list_2004 = metro_drugs_2004.get('Other', [])\n",
    "\n",
    "Drugs_2005_list = data_lists.get('DRUGS_2005_list', [])\n",
    "metro_drugs_2005 = {}\n",
    "for item in Drugs_2005_list:\n",
    "    metro = item[0]\n",
    "    metro_drugs_2005.setdefault(metro, []).append(item[1:])\n",
    "\n",
    "\n",
    "MA_drugs_list_2005 = metro_drugs_2005.get('MA', [])\n",
    "NY_drugs_list_2005 = metro_drugs_2005.get('NY', [])\n",
    "IL_drugs_list_2005 = metro_drugs_2005.get('IL', [])\n",
    "MI_drugs_list_2005 = metro_drugs_2005.get('MI', [])\n",
    "MN_drugs_list_2005 = metro_drugs_2005.get('MN', [])\n",
    "FL_drugs_list_2005 = metro_drugs_2005.get('FL', [])\n",
    "TX_drugs_list_2005 = metro_drugs_2005.get('TX', [])\n",
    "LA_drugs_list_2005 = metro_drugs_2005.get('LA', [])\n",
    "CO_drugs_list_2005 = metro_drugs_2005.get('CO', [])\n",
    "AZ_drugs_list_2005 = metro_drugs_2005.get('AZ', [])\n",
    "CASD_drugs_list_2005 = metro_drugs_2005.get('CA-SD', [])\n",
    "CASF_drugs_list_2005 = metro_drugs_2005.get('CA-SF', [])\n",
    "WA_drugs_list_2005 = metro_drugs_2005.get('WA', [])\n",
    "Other_drugs_list_2005 = metro_drugs_2005.get('Other', [])\n",
    "\n",
    "Drugs_2006_list = data_lists.get('DRUGS_2006_list', [])\n",
    "metro_drugs_2006 = {}\n",
    "for item in Drugs_2006_list:\n",
    "    metro = item[0]\n",
    "    metro_drugs_2006.setdefault(metro, []).append(item[1:])\n",
    "\n",
    "\n",
    "MA_drugs_list_2006 = metro_drugs_2006.get('MA', [])\n",
    "NY_drugs_list_2006 = metro_drugs_2006.get('NY', [])\n",
    "IL_drugs_list_2006 = metro_drugs_2006.get('IL', [])\n",
    "MI_drugs_list_2006 = metro_drugs_2006.get('MI', [])\n",
    "MN_drugs_list_2006 = metro_drugs_2006.get('MN', [])\n",
    "FL_drugs_list_2006 = metro_drugs_2006.get('FL', [])\n",
    "TX_drugs_list_2006 = metro_drugs_2006.get('TX', [])\n",
    "LA_drugs_list_2006 = metro_drugs_2006.get('LA', [])\n",
    "CO_drugs_list_2006 = metro_drugs_2006.get('CO', [])\n",
    "AZ_drugs_list_2006 = metro_drugs_2006.get('AZ', [])\n",
    "CASD_drugs_list_2006 = metro_drugs_2006.get('CA-SD', [])\n",
    "CASF_drugs_list_2006 = metro_drugs_2006.get('CA-SF', [])\n",
    "WA_drugs_list_2006 = metro_drugs_2006.get('WA', [])\n",
    "Other_drugs_list_2006 = metro_drugs_2006.get('Other', [])\n",
    "\n",
    "Drugs_2007_list = data_lists.get('DRUGS_2007_list', [])\n",
    "metro_drugs_2007 = {}\n",
    "for item in Drugs_2007_list:\n",
    "    metro = item[0]\n",
    "    metro_drugs_2007.setdefault(metro, []).append(item[1:])\n",
    "\n",
    "\n",
    "MA_drugs_list_2007 = metro_drugs_2007.get('MA', [])\n",
    "NY_drugs_list_2007 = metro_drugs_2007.get('NY', [])\n",
    "IL_drugs_list_2007 = metro_drugs_2007.get('IL', [])\n",
    "MI_drugs_list_2007 = metro_drugs_2007.get('MI', [])\n",
    "MN_drugs_list_2007 = metro_drugs_2007.get('MN', [])\n",
    "FL_drugs_list_2007 = metro_drugs_2007.get('FL', [])\n",
    "TX_drugs_list_2007 = metro_drugs_2007.get('TX', [])\n",
    "LA_drugs_list_2007 = metro_drugs_2007.get('LA', [])\n",
    "CO_drugs_list_2007 = metro_drugs_2007.get('CO', [])\n",
    "AZ_drugs_list_2007 = metro_drugs_2007.get('AZ', [])\n",
    "CASD_drugs_list_2007 = metro_drugs_2007.get('CA-SD', [])\n",
    "CASF_drugs_list_2007 = metro_drugs_2007.get('CA-SF', [])\n",
    "WA_drugs_list_2007 = metro_drugs_2007.get('WA', [])\n",
    "Other_drugs_list_2007 = metro_drugs_2007.get('Other', [])\n",
    "\n",
    "Drugs_2008_list = data_lists.get('DRUGS_2008_list', [])\n",
    "metro_drugs_2008 = {}\n",
    "for item in Drugs_2008_list:\n",
    "    metro = item[0]\n",
    "    metro_drugs_2008.setdefault(metro, []).append(item[1:])\n",
    "\n",
    "\n",
    "MA_drugs_list_2008 = metro_drugs_2008.get('MA', [])\n",
    "NY_drugs_list_2008 = metro_drugs_2008.get('NY', [])\n",
    "IL_drugs_list_2008 = metro_drugs_2008.get('IL', [])\n",
    "MI_drugs_list_2008 = metro_drugs_2008.get('MI', [])\n",
    "MN_drugs_list_2008 = metro_drugs_2008.get('MN', [])\n",
    "FL_drugs_list_2008 = metro_drugs_2008.get('FL', [])\n",
    "TX_drugs_list_2008 = metro_drugs_2008.get('TX', [])\n",
    "LA_drugs_list_2008 = metro_drugs_2008.get('LA', [])\n",
    "CO_drugs_list_2008 = metro_drugs_2008.get('CO', [])\n",
    "AZ_drugs_list_2008 = metro_drugs_2008.get('AZ', [])\n",
    "CASD_drugs_list_2008 = metro_drugs_2008.get('CA-SD', [])\n",
    "CASF_drugs_list_2008 = metro_drugs_2008.get('CA-SF', [])\n",
    "WA_drugs_list_2008 = metro_drugs_2008.get('WA', [])\n",
    "Other_drugs_list_2008 = metro_drugs_2008.get('Other', [])\n",
    "\n",
    "Drugs_2009_list = data_lists.get('DRUGS_2009_list', [])\n",
    "metro_drugs_2009 = {}\n",
    "for item in Drugs_2009_list:\n",
    "    metro = item[0]\n",
    "    metro_drugs_2009.setdefault(metro, []).append(item[1:])\n",
    "\n",
    "\n",
    "MA_drugs_list_2009 = metro_drugs_2009.get('MA', [])\n",
    "NY_drugs_list_2009 = metro_drugs_2009.get('NY', [])\n",
    "IL_drugs_list_2009 = metro_drugs_2009.get('IL', [])\n",
    "MI_drugs_list_2009 = metro_drugs_2009.get('MI', [])\n",
    "MN_drugs_list_2009 = metro_drugs_2009.get('MN', [])\n",
    "FL_drugs_list_2009 = metro_drugs_2009.get('FL', [])\n",
    "TX_drugs_list_2009 = metro_drugs_2009.get('TX', [])\n",
    "LA_drugs_list_2009 = metro_drugs_2009.get('LA', [])\n",
    "CO_drugs_list_2009 = metro_drugs_2009.get('CO', [])\n",
    "AZ_drugs_list_2009 = metro_drugs_2009.get('AZ', [])\n",
    "CASD_drugs_list_2009 = metro_drugs_2009.get('CA-SD', [])\n",
    "CASF_drugs_list_2009 = metro_drugs_2009.get('CA-SF', [])\n",
    "WA_drugs_list_2009 = metro_drugs_2009.get('WA', [])\n",
    "Other_drugs_list_2009 = metro_drugs_2009.get('Other', [])\n",
    "\n",
    "Drugs_2010_list = data_lists.get('DRUGS_2010_list', [])\n",
    "metro_drugs_2010 = {}\n",
    "for item in Drugs_2010_list:\n",
    "    metro = item[0]\n",
    "    metro_drugs_2010.setdefault(metro, []).append(item[1:])\n",
    "\n",
    "\n",
    "MA_drugs_list_2010 = metro_drugs_2010.get('MA', [])\n",
    "NY_drugs_list_2010 = metro_drugs_2010.get('NY', [])\n",
    "IL_drugs_list_2010 = metro_drugs_2010.get('IL', [])\n",
    "MI_drugs_list_2010 = metro_drugs_2010.get('MI', [])\n",
    "MN_drugs_list_2010 = metro_drugs_2010.get('MN', [])\n",
    "FL_drugs_list_2010 = metro_drugs_2010.get('FL', [])\n",
    "TX_drugs_list_2010 = metro_drugs_2010.get('TX', [])\n",
    "LA_drugs_list_2010 = metro_drugs_2010.get('LA', [])\n",
    "CO_drugs_list_2010 = metro_drugs_2010.get('CO', [])\n",
    "AZ_drugs_list_2010 = metro_drugs_2010.get('AZ', [])\n",
    "CASD_drugs_list_2010 = metro_drugs_2010.get('CA-SD', [])\n",
    "CASF_drugs_list_2010 = metro_drugs_2010.get('CA-SF', [])\n",
    "WA_drugs_list_2010 = metro_drugs_2010.get('WA', [])\n",
    "Other_drugs_list_2010 = metro_drugs_2010.get('Other', [])\n",
    "\n",
    "Drugs_2011_list = data_lists.get('DRUGS_2011_list', [])\n",
    "metro_drugs_2011 = {}\n",
    "for item in Drugs_2011_list:\n",
    "    metro = item[0]\n",
    "    metro_drugs_2011.setdefault(metro, []).append(item[1:])\n",
    "\n",
    "\n",
    "MA_drugs_list_2011 = metro_drugs_2011.get('MA', [])\n",
    "NY_drugs_list_2011 = metro_drugs_2011.get('NY', [])\n",
    "IL_drugs_list_2011 = metro_drugs_2011.get('IL', [])\n",
    "MI_drugs_list_2011 = metro_drugs_2011.get('MI', [])\n",
    "MN_drugs_list_2011 = metro_drugs_2011.get('MN', [])\n",
    "FL_drugs_list_2011 = metro_drugs_2011.get('FL', [])\n",
    "TX_drugs_list_2011 = metro_drugs_2011.get('TX', [])\n",
    "LA_drugs_list_2011 = metro_drugs_2011.get('LA', [])\n",
    "CO_drugs_list_2011 = metro_drugs_2011.get('CO', [])\n",
    "AZ_drugs_list_2011 = metro_drugs_2011.get('AZ', [])\n",
    "CASD_drugs_list_2011 = metro_drugs_2011.get('CA-SD', [])\n",
    "CASF_drugs_list_2011 = metro_drugs_2011.get('CA-SF', [])\n",
    "WA_drugs_list_2011 = metro_drugs_2011.get('WA', [])\n",
    "Other_drugs_list_2011 = metro_drugs_2011.get('Other', [])"
   ]
  },
  {
   "cell_type": "code",
   "execution_count": 8,
   "metadata": {
    "id": "010CyoQb81R1"
   },
   "outputs": [],
   "source": [
    "Alcohol_2004_list = data_lists.get('Alcohol_2004_list', [])\n",
    "metro_alcohol_2004 = {}\n",
    "for item in Alcohol_2004_list:\n",
    "    metro = item[0]\n",
    "    metro_alcohol_2004.setdefault(metro, []).append(item[1:])\n",
    "\n",
    "\n",
    "MA_alcohol_list_2004 = metro_alcohol_2004.get('MA', [])\n",
    "NY_alcohol_list_2004 = metro_alcohol_2004.get('NY', [])\n",
    "IL_alcohol_list_2004 = metro_alcohol_2004.get('IL', [])\n",
    "MI_alcohol_list_2004 = metro_alcohol_2004.get('MI', [])\n",
    "MN_alcohol_list_2004 = metro_alcohol_2004.get('MN', [])\n",
    "FL_alcohol_list_2004 = metro_alcohol_2004.get('FL', [])\n",
    "TX_alcohol_list_2004 = metro_alcohol_2004.get('TX', [])\n",
    "LA_alcohol_list_2004 = metro_alcohol_2004.get('LA', [])\n",
    "CO_alcohol_list_2004 = metro_alcohol_2004.get('CO', [])\n",
    "AZ_alcohol_list_2004 = metro_alcohol_2004.get('AZ', [])\n",
    "CASD_alcohol_list_2004 = metro_alcohol_2004.get('CA-SD', [])\n",
    "CASF_alcohol_list_2004 = metro_alcohol_2004.get('CA-SF', [])\n",
    "WA_alcohol_list_2004 = metro_alcohol_2004.get('WA', [])\n",
    "Other_alcohol_list_2004 = metro_alcohol_2004.get('Other', [])\n",
    "\n",
    "Alcohol_2005_list = data_lists.get('Alcohol_2005_list', [])\n",
    "metro_alcohol_2005 = {}\n",
    "for item in Alcohol_2005_list:\n",
    "    metro = item[0]\n",
    "    metro_alcohol_2005.setdefault(metro, []).append(item[1:])\n",
    "\n",
    "\n",
    "MA_alcohol_list_2005 = metro_alcohol_2005.get('MA', [])\n",
    "NY_alcohol_list_2005 = metro_alcohol_2005.get('NY', [])\n",
    "IL_alcohol_list_2005 = metro_alcohol_2005.get('IL', [])\n",
    "MI_alcohol_list_2005 = metro_alcohol_2005.get('MI', [])\n",
    "MN_alcohol_list_2005 = metro_alcohol_2005.get('MN', [])\n",
    "FL_alcohol_list_2005 = metro_alcohol_2005.get('FL', [])\n",
    "TX_alcohol_list_2005 = metro_alcohol_2005.get('TX', [])\n",
    "LA_alcohol_list_2005 = metro_alcohol_2005.get('LA', [])\n",
    "CO_alcohol_list_2005 = metro_alcohol_2005.get('CO', [])\n",
    "AZ_alcohol_list_2005 = metro_alcohol_2005.get('AZ', [])\n",
    "CASD_alcohol_list_2005 = metro_alcohol_2005.get('CA-SD', [])\n",
    "CASF_alcohol_list_2005 = metro_alcohol_2005.get('CA-SF', [])\n",
    "WA_alcohol_list_2005 = metro_alcohol_2005.get('WA', [])\n",
    "Other_alcohol_list_2005 = metro_alcohol_2005.get('Other', [])\n",
    "\n",
    "Alcohol_2006_list = data_lists.get('Alcohol_2006_list', [])\n",
    "metro_alcohol_2006 = {}\n",
    "for item in Alcohol_2006_list:\n",
    "    metro = item[0]\n",
    "    metro_alcohol_2006.setdefault(metro, []).append(item[1:])\n",
    "\n",
    "\n",
    "MA_alcohol_list_2006 = metro_alcohol_2006.get('MA', [])\n",
    "NY_alcohol_list_2006 = metro_alcohol_2006.get('NY', [])\n",
    "IL_alcohol_list_2006 = metro_alcohol_2006.get('IL', [])\n",
    "MI_alcohol_list_2006 = metro_alcohol_2006.get('MI', [])\n",
    "MN_alcohol_list_2006 = metro_alcohol_2006.get('MN', [])\n",
    "FL_alcohol_list_2006 = metro_alcohol_2006.get('FL', [])\n",
    "TX_alcohol_list_2006 = metro_alcohol_2006.get('TX', [])\n",
    "LA_alcohol_list_2006 = metro_alcohol_2006.get('LA', [])\n",
    "CO_alcohol_list_2006 = metro_alcohol_2006.get('CO', [])\n",
    "AZ_alcohol_list_2006 = metro_alcohol_2006.get('AZ', [])\n",
    "CASD_alcohol_list_2006 = metro_alcohol_2006.get('CA-SD', [])\n",
    "CASF_alcohol_list_2006 = metro_alcohol_2006.get('CA-SF', [])\n",
    "WA_alcohol_list_2006 = metro_alcohol_2006.get('WA', [])\n",
    "Other_alcohol_list_2006 = metro_alcohol_2006.get('Other', [])\n",
    "\n",
    "Alcohol_2007_list = data_lists.get('Alcohol_2007_list', [])\n",
    "metro_alcohol_2007 = {}\n",
    "for item in Alcohol_2007_list:\n",
    "    metro = item[0]\n",
    "    metro_alcohol_2007.setdefault(metro, []).append(item[1:])\n",
    "\n",
    "\n",
    "MA_alcohol_list_2007 = metro_alcohol_2007.get('MA', [])\n",
    "NY_alcohol_list_2007 = metro_alcohol_2007.get('NY', [])\n",
    "IL_alcohol_list_2007 = metro_alcohol_2007.get('IL', [])\n",
    "MI_alcohol_list_2007 = metro_alcohol_2007.get('MI', [])\n",
    "MN_alcohol_list_2007 = metro_alcohol_2007.get('MN', [])\n",
    "FL_alcohol_list_2007 = metro_alcohol_2007.get('FL', [])\n",
    "TX_alcohol_list_2007 = metro_alcohol_2007.get('TX', [])\n",
    "LA_alcohol_list_2007 = metro_alcohol_2007.get('LA', [])\n",
    "CO_alcohol_list_2007 = metro_alcohol_2007.get('CO', [])\n",
    "AZ_alcohol_list_2007 = metro_alcohol_2007.get('AZ', [])\n",
    "CASD_alcohol_list_2007 = metro_alcohol_2007.get('CA-SD', [])\n",
    "CASF_alcohol_list_2007 = metro_alcohol_2007.get('CA-SF', [])\n",
    "WA_alcohol_list_2007 = metro_alcohol_2007.get('WA', [])\n",
    "Other_alcohol_list_2007 = metro_alcohol_2007.get('Other', [])\n",
    "\n",
    "Alcohol_2008_list = data_lists.get('Alcohol_2008_list', [])\n",
    "metro_alcohol_2008 = {}\n",
    "for item in Alcohol_2008_list:\n",
    "    metro = item[0]\n",
    "    metro_alcohol_2008.setdefault(metro, []).append(item[1:])\n",
    "\n",
    "\n",
    "MA_alcohol_list_2008 = metro_alcohol_2008.get('MA', [])\n",
    "NY_alcohol_list_2008 = metro_alcohol_2008.get('NY', [])\n",
    "IL_alcohol_list_2008 = metro_alcohol_2008.get('IL', [])\n",
    "MI_alcohol_list_2008 = metro_alcohol_2008.get('MI', [])\n",
    "MN_alcohol_list_2008 = metro_alcohol_2008.get('MN', [])\n",
    "FL_alcohol_list_2008 = metro_alcohol_2008.get('FL', [])\n",
    "TX_alcohol_list_2008 = metro_alcohol_2008.get('TX', [])\n",
    "LA_alcohol_list_2008 = metro_alcohol_2008.get('LA', [])\n",
    "CO_alcohol_list_2008 = metro_alcohol_2008.get('CO', [])\n",
    "AZ_alcohol_list_2008 = metro_alcohol_2008.get('AZ', [])\n",
    "CASD_alcohol_list_2008 = metro_alcohol_2008.get('CA-SD', [])\n",
    "CASF_alcohol_list_2008 = metro_alcohol_2008.get('CA-SF', [])\n",
    "WA_alcohol_list_2008 = metro_alcohol_2008.get('WA', [])\n",
    "Other_alcohol_list_2008 = metro_alcohol_2008.get('Other', [])\n",
    "\n",
    "Alcohol_2009_list = data_lists.get('Alcohol_2009_list', [])\n",
    "metro_alcohol_2009 = {}\n",
    "for item in Alcohol_2009_list:\n",
    "    metro = item[0]\n",
    "    metro_alcohol_2009.setdefault(metro, []).append(item[1:])\n",
    "\n",
    "\n",
    "MA_alcohol_list_2009 = metro_alcohol_2009.get('MA', [])\n",
    "NY_alcohol_list_2009 = metro_alcohol_2009.get('NY', [])\n",
    "IL_alcohol_list_2009 = metro_alcohol_2009.get('IL', [])\n",
    "MI_alcohol_list_2009 = metro_alcohol_2009.get('MI', [])\n",
    "MN_alcohol_list_2009 = metro_alcohol_2009.get('MN', [])\n",
    "FL_alcohol_list_2009 = metro_alcohol_2009.get('FL', [])\n",
    "TX_alcohol_list_2009 = metro_alcohol_2009.get('TX', [])\n",
    "LA_alcohol_list_2009 = metro_alcohol_2009.get('LA', [])\n",
    "CO_alcohol_list_2009 = metro_alcohol_2009.get('CO', [])\n",
    "AZ_alcohol_list_2009 = metro_alcohol_2009.get('AZ', [])\n",
    "CASD_alcohol_list_2009 = metro_alcohol_2009.get('CA-SD', [])\n",
    "CASF_alcohol_list_2009 = metro_alcohol_2009.get('CA-SF', [])\n",
    "WA_alcohol_list_2009 = metro_alcohol_2009.get('WA', [])\n",
    "Other_alcohol_list_2009 = metro_alcohol_2009.get('Other', [])\n",
    "\n",
    "Alcohol_2010_list = data_lists.get('Alcohol_2010_list', [])\n",
    "metro_alcohol_2010 = {}\n",
    "for item in Alcohol_2010_list:\n",
    "    metro = item[0]\n",
    "    metro_alcohol_2010.setdefault(metro, []).append(item[1:])\n",
    "\n",
    "\n",
    "MA_alcohol_list_2010 = metro_alcohol_2010.get('MA', [])\n",
    "NY_alcohol_list_2010 = metro_alcohol_2010.get('NY', [])\n",
    "IL_alcohol_list_2010 = metro_alcohol_2010.get('IL', [])\n",
    "MI_alcohol_list_2010 = metro_alcohol_2010.get('MI', [])\n",
    "MN_alcohol_list_2010 = metro_alcohol_2010.get('MN', [])\n",
    "FL_alcohol_list_2010 = metro_alcohol_2010.get('FL', [])\n",
    "TX_alcohol_list_2010 = metro_alcohol_2010.get('TX', [])\n",
    "LA_alcohol_list_2010 = metro_alcohol_2010.get('LA', [])\n",
    "CO_alcohol_list_2010 = metro_alcohol_2010.get('CO', [])\n",
    "AZ_alcohol_list_2010 = metro_alcohol_2010.get('AZ', [])\n",
    "CASD_alcohol_list_2010 = metro_alcohol_2010.get('CA-SD', [])\n",
    "CASF_alcohol_list_2010 = metro_alcohol_2010.get('CA-SF', [])\n",
    "WA_alcohol_list_2010 = metro_alcohol_2010.get('WA', [])\n",
    "Other_alcohol_list_2010 = metro_alcohol_2010.get('Other', [])\n",
    "\n",
    "Alcohol_2011_list = data_lists.get('Alcohol_2011_list', [])\n",
    "metro_alcohol_2011 = {}\n",
    "for item in Alcohol_2011_list:\n",
    "    metro = item[0]\n",
    "    metro_alcohol_2011.setdefault(metro, []).append(item[1:])\n",
    "\n",
    "\n",
    "MA_alcohol_list_2011 = metro_alcohol_2011.get('MA', [])\n",
    "NY_alcohol_list_2011 = metro_alcohol_2011.get('NY', [])\n",
    "IL_alcohol_list_2011 = metro_alcohol_2011.get('IL', [])\n",
    "MI_alcohol_list_2011 = metro_alcohol_2011.get('MI', [])\n",
    "MN_alcohol_list_2011 = metro_alcohol_2011.get('MN', [])\n",
    "FL_alcohol_list_2011 = metro_alcohol_2011.get('FL', [])\n",
    "TX_alcohol_list_2011 = metro_alcohol_2011.get('TX', [])\n",
    "LA_alcohol_list_2011 = metro_alcohol_2011.get('LA', [])\n",
    "CO_alcohol_list_2011 = metro_alcohol_2011.get('CO', [])\n",
    "AZ_alcohol_list_2011 = metro_alcohol_2011.get('AZ', [])\n",
    "CASD_alcohol_list_2011 = metro_alcohol_2011.get('CA-SD', [])\n",
    "CASF_alcohol_list_2011 = metro_alcohol_2011.get('CA-SF', [])\n",
    "WA_alcohol_list_2011 = metro_alcohol_2011.get('WA', [])\n",
    "Other_alcohol_list_2011 = metro_alcohol_2011.get('Other', [])"
   ]
  },
  {
   "cell_type": "code",
   "execution_count": 9,
   "metadata": {
    "id": "9ZnzJ8f8826B"
   },
   "outputs": [],
   "source": [
    "items_to_process = ['MA', 'NY', 'IL', 'MI', 'MN', 'FL', 'TX', 'LA', 'CO', 'AZ', 'CASD', 'CASF', 'WA']\n",
    "from collections import Counter\n",
    "from mlxtend.preprocessing import TransactionEncoder\n",
    "from mlxtend.frequent_patterns import fpgrowth\n",
    "\n",
    "def find_frequent_patterns_fp_growth(drugs_list, min_support_ratio):\n",
    "    # Convert list to one-hot encoded DataFrame\n",
    "    te = TransactionEncoder()\n",
    "    te_ary = te.fit(drugs_list).transform(drugs_list)\n",
    "    df = pd.DataFrame(te_ary, columns=te.columns_)\n",
    "\n",
    "    # Apply FP-Growth\n",
    "    frequent_itemsets = fpgrowth(df, min_support=min_support_ratio, use_colnames=True)\n",
    "\n",
    "\n",
    "    return [(set(itemset), support) for itemset, support in zip(frequent_itemsets['itemsets'], frequent_itemsets['support'])]\n",
    "\n",
    "def process_category_for_item(item, category, years_range, min_support_ratio):\n",
    "    combined_itemsets = []\n",
    "    for year in years_range:\n",
    "        list_name = f'{item}_{category}_list_{year}'\n",
    "        if list_name in globals():\n",
    "            category_list = globals()[list_name]\n",
    "            combined_itemsets += find_frequent_patterns_fp_growth(category_list, min_support_ratio)\n",
    "\n",
    "\n",
    "    pattern_counts = Counter()\n",
    "    for itemset, _ in combined_itemsets:\n",
    "        pattern_counts[tuple(itemset)] += 1\n",
    "\n",
    "    reliable = [list(tpl) for tpl, count in pattern_counts.items() if count >= 5]\n",
    "    unique = [list(tpl) for tpl, count in pattern_counts.items() if count < 5]\n",
    "\n",
    "    return reliable, unique\n",
    "\n",
    "all_reliable_itemsets = {}\n",
    "all_unique_itemsets = {}\n",
    "\n",
    "for item in items_to_process:\n",
    "    reliable_itemsets = {'drugs': [], 'Alcohol_Drugs': [], 'alcohol': []}\n",
    "    unique_itemsets = {'drugs': [], 'Alcohol_Drugs': [], 'alcohol': []}\n",
    "\n",
    "    for category in ['drugs', 'Alcohol_Drugs', 'alcohol']:\n",
    "        reliable, unique = process_category_for_item(item, category, range(2004, 2012), 0.18)\n",
    "        reliable_itemsets[category] = reliable\n",
    "        unique_itemsets[category] = unique\n",
    "\n",
    "    all_reliable_itemsets[item] = reliable_itemsets\n",
    "    all_unique_itemsets[item] = unique_itemsets"
   ]
  },
  {
   "cell_type": "code",
   "execution_count": 10,
   "metadata": {
    "colab": {
     "base_uri": "https://localhost:8080/"
    },
    "id": "3ZZ3j49g85Fw",
    "outputId": "d7e83a7e-ffac-49ed-9a10-f12da081a9b0"
   },
   "outputs": [
    {
     "name": "stderr",
     "output_type": "stream",
     "text": [
      "/usr/local/lib/python3.10/dist-packages/ipykernel/ipkernel.py:283: DeprecationWarning: `should_run_async` will not call `transform_cell` automatically in the future. Please pass the result to `transformed_cell` argument and any exception that happen during thetransform in `preprocessing_exc_tuple` in IPython 7.17 and above.\n",
      "  and should_run_async(code)\n"
     ]
    }
   ],
   "source": [
    "reliable_itemsets_MA = all_reliable_itemsets['MA']\n",
    "reliable_drugs_itemsets_MA = reliable_itemsets_MA['drugs']\n",
    "reliable_alcohol_itemsets_MA = reliable_itemsets_MA['alcohol']\n",
    "reliable_alcohol_drugs_itemsets_MA = reliable_itemsets_MA['Alcohol_Drugs']\n",
    "\n",
    "reliable_itemsets_NY = all_reliable_itemsets['NY']\n",
    "reliable_drugs_itemsets_NY = reliable_itemsets_NY['drugs']\n",
    "reliable_alcohol_itemsets_NY = reliable_itemsets_NY['alcohol']\n",
    "reliable_alcohol_drugs_itemsets_NY = reliable_itemsets_NY['Alcohol_Drugs']\n",
    "\n",
    "reliable_itemsets_IL = all_reliable_itemsets['IL']\n",
    "reliable_drugs_itemsets_IL = reliable_itemsets_IL['drugs']\n",
    "reliable_alcohol_itemsets_IL = reliable_itemsets_IL['alcohol']\n",
    "reliable_alcohol_drugs_itemsets_IL = reliable_itemsets_IL['Alcohol_Drugs']\n",
    "\n",
    "reliable_itemsets_MI = all_reliable_itemsets['MI']\n",
    "reliable_drugs_itemsets_MI = reliable_itemsets_MI['drugs']\n",
    "reliable_alcohol_itemsets_MI = reliable_itemsets_MI['alcohol']\n",
    "reliable_alcohol_drugs_itemsets_MI = reliable_itemsets_MI['Alcohol_Drugs']\n",
    "\n",
    "reliable_itemsets_MN = all_reliable_itemsets['MN']\n",
    "reliable_drugs_itemsets_MN = reliable_itemsets_MN['drugs']\n",
    "reliable_alcohol_itemsets_MN = reliable_itemsets_MN['alcohol']\n",
    "reliable_alcohol_drugs_itemsets_MN = reliable_itemsets_MN['Alcohol_Drugs']\n",
    "\n",
    "reliable_itemsets_FL = all_reliable_itemsets['FL']\n",
    "reliable_drugs_itemsets_FL = reliable_itemsets_FL['drugs']\n",
    "reliable_alcohol_itemsets_FL = reliable_itemsets_FL['alcohol']\n",
    "reliable_alcohol_drugs_itemsets_FL = reliable_itemsets_FL['Alcohol_Drugs']\n",
    "\n",
    "reliable_itemsets_TX = all_reliable_itemsets['TX']\n",
    "reliable_drugs_itemsets_TX = reliable_itemsets_TX['drugs']\n",
    "reliable_alcohol_itemsets_TX = reliable_itemsets_TX['alcohol']\n",
    "reliable_alcohol_drugs_itemsets_TX = reliable_itemsets_TX['Alcohol_Drugs']\n",
    "\n",
    "reliable_itemsets_LA = all_reliable_itemsets['LA']\n",
    "reliable_drugs_itemsets_LA = reliable_itemsets_LA['drugs']\n",
    "reliable_alcohol_itemsets_LA = reliable_itemsets_LA['alcohol']\n",
    "reliable_alcohol_drugs_itemsets_LA = reliable_itemsets_LA['Alcohol_Drugs']\n",
    "\n",
    "reliable_itemsets_CASD = all_reliable_itemsets['CASD']\n",
    "reliable_drugs_itemsets_CASD = reliable_itemsets_CASD['drugs']\n",
    "reliable_alcohol_itemsets_CASD = reliable_itemsets_CASD['alcohol']\n",
    "reliable_alcohol_drugs_itemsets_CASD = reliable_itemsets_CASD['Alcohol_Drugs']\n",
    "\n",
    "reliable_itemsets_CASF = all_reliable_itemsets['CASF']\n",
    "reliable_drugs_itemsets_CASF = reliable_itemsets_CASF['drugs']\n",
    "reliable_alcohol_itemsets_CASF = reliable_itemsets_CASF['alcohol']\n",
    "reliable_alcohol_drugs_itemsets_CASF = reliable_itemsets_CASF['Alcohol_Drugs']\n",
    "\n",
    "reliable_itemsets_AZ = all_reliable_itemsets['AZ']\n",
    "reliable_drugs_itemsets_AZ = reliable_itemsets_AZ['drugs']\n",
    "reliable_alcohol_itemsets_AZ = reliable_itemsets_AZ['alcohol']\n",
    "reliable_alcohol_drugs_itemsets_AZ = reliable_itemsets_AZ['Alcohol_Drugs']\n",
    "\n",
    "reliable_itemsets_WA = all_reliable_itemsets['WA']\n",
    "reliable_drugs_itemsets_WA = reliable_itemsets_WA['drugs']\n",
    "reliable_alcohol_itemsets_WA = reliable_itemsets_WA['alcohol']\n",
    "reliable_alcohol_drugs_itemsets_WA = reliable_itemsets_WA['Alcohol_Drugs']\n",
    "\n",
    "reliable_itemsets_CO = all_reliable_itemsets['CO']\n",
    "reliable_drugs_itemsets_CO = reliable_itemsets_CO['drugs']\n",
    "reliable_alcohol_itemsets_CO = reliable_itemsets_CO['alcohol']\n",
    "reliable_alcohol_drugs_itemsets_CO = reliable_itemsets_CO['Alcohol_Drugs']"
   ]
  },
  {
   "cell_type": "code",
   "execution_count": 11,
   "metadata": {
    "colab": {
     "base_uri": "https://localhost:8080/"
    },
    "id": "2m5Zk1u89T0W",
    "outputId": "10ce02b4-e27d-40a2-e3b0-8b21ba4bac5e"
   },
   "outputs": [
    {
     "name": "stderr",
     "output_type": "stream",
     "text": [
      "/usr/local/lib/python3.10/dist-packages/ipykernel/ipkernel.py:283: DeprecationWarning: `should_run_async` will not call `transform_cell` automatically in the future. Please pass the result to `transformed_cell` argument and any exception that happen during thetransform in `preprocessing_exc_tuple` in IPython 7.17 and above.\n",
      "  and should_run_async(code)\n"
     ]
    }
   ],
   "source": [
    "#Alchol - Drug\n",
    "def set_difference(list1, list2):\n",
    "    set1 = {tuple(itemset) for itemset in list1}\n",
    "    set2 = {tuple(itemset) for itemset in list2}\n",
    "\n",
    "    difference = set1.intersection(set2)\n",
    "\n",
    "    return [list(itemset) for itemset in difference]\n",
    "\n",
    "both_MA = set_difference(reliable_alcohol_itemsets_MA, reliable_drugs_itemsets_MA)\n",
    "both_FL = set_difference(reliable_alcohol_itemsets_FL, reliable_drugs_itemsets_FL)\n",
    "both_TX = set_difference(reliable_alcohol_itemsets_TX, reliable_drugs_itemsets_TX)\n",
    "both_CO = set_difference(reliable_alcohol_itemsets_CO, reliable_drugs_itemsets_CO)\n",
    "both_CASF = set_difference(reliable_alcohol_itemsets_CASF, reliable_drugs_itemsets_CASF)\n",
    "both_CASD = set_difference(reliable_alcohol_itemsets_CASD, reliable_drugs_itemsets_CASD)\n",
    "both_MI = set_difference(reliable_alcohol_itemsets_MI, reliable_drugs_itemsets_MI)\n",
    "both_NY = set_difference(reliable_alcohol_itemsets_NY, reliable_drugs_itemsets_NY)\n",
    "both_AZ = set_difference(reliable_alcohol_itemsets_AZ, reliable_drugs_itemsets_AZ)\n",
    "both_WA = set_difference(reliable_alcohol_itemsets_WA, reliable_drugs_itemsets_WA)\n",
    "both_LA = set_difference(reliable_alcohol_itemsets_LA, reliable_drugs_itemsets_LA)\n",
    "both_MN = set_difference(reliable_alcohol_itemsets_MN, reliable_drugs_itemsets_MN)\n",
    "both_IL = set_difference(reliable_alcohol_itemsets_IL, reliable_drugs_itemsets_IL)\n"
   ]
  },
  {
   "cell_type": "code",
   "execution_count": 12,
   "metadata": {
    "colab": {
     "base_uri": "https://localhost:8080/"
    },
    "id": "BK-DtP-D9V9d",
    "outputId": "45c664fe-e028-4cbe-cf6a-12a9c9dcc22a"
   },
   "outputs": [
    {
     "name": "stderr",
     "output_type": "stream",
     "text": [
      "/usr/local/lib/python3.10/dist-packages/ipykernel/ipkernel.py:283: DeprecationWarning: `should_run_async` will not call `transform_cell` automatically in the future. Please pass the result to `transformed_cell` argument and any exception that happen during thetransform in `preprocessing_exc_tuple` in IPython 7.17 and above.\n",
      "  and should_run_async(code)\n"
     ]
    }
   ],
   "source": [
    "def set_only(list1, list2):\n",
    "    set1 = {tuple(itemset) for itemset in list1}\n",
    "    set2 = {tuple(itemset) for itemset in list2}\n",
    "\n",
    "    difference = set1 - set2\n",
    "\n",
    "    return [list(itemset) for itemset in difference]\n",
    "#ONLY ALCOHOL:\n",
    "only_alcohol_MA = set_only(reliable_alcohol_itemsets_MA,both_MA)\n",
    "only_alcohol_FL = set_only(reliable_alcohol_itemsets_FL,both_FL)\n",
    "only_alcohol_TX = set_only(reliable_alcohol_itemsets_TX,both_TX)\n",
    "only_alcohol_CO = set_only(reliable_alcohol_itemsets_CO,both_CO)\n",
    "only_alcohol_CASF = set_only(reliable_alcohol_itemsets_CASF,both_CASF)\n",
    "only_alcohol_CASD = set_only(reliable_alcohol_itemsets_CASD,both_CASD)\n",
    "only_alcohol_MI = set_only(reliable_alcohol_itemsets_MI,both_MI)\n",
    "only_alcohol_NY = set_only(reliable_alcohol_itemsets_NY,both_NY)\n",
    "only_alcohol_AZ = set_only(reliable_alcohol_itemsets_AZ,both_AZ)\n",
    "only_alcohol_WA = set_only(reliable_alcohol_itemsets_WA,both_WA)\n",
    "only_alcohol_LA = set_only(reliable_alcohol_itemsets_LA,both_LA)\n",
    "only_alcohol_MN = set_only(reliable_alcohol_itemsets_MN,both_MN)\n",
    "only_alcohol_IL = set_only(reliable_alcohol_itemsets_IL,both_IL)\n",
    "all_alcohol = only_alcohol_MA + only_alcohol_FL + only_alcohol_TX + only_alcohol_CO + only_alcohol_CASF + only_alcohol_CASD +  only_alcohol_MI + only_alcohol_AZ+ only_alcohol_NY+ only_alcohol_WA + only_alcohol_MN + only_alcohol_IL+only_alcohol_LA\n",
    "#ONLY DRUGS:\n",
    "only_drugs_MA = set_only(reliable_drugs_itemsets_MA,both_MA)\n",
    "only_drugs_FL = set_only(reliable_drugs_itemsets_FL,both_FL)\n",
    "only_drugs_TX = set_only(reliable_drugs_itemsets_TX,both_TX)\n",
    "only_drugs_CO = set_only(reliable_drugs_itemsets_CO,both_CO)\n",
    "only_drugs_CASF = set_only(reliable_drugs_itemsets_CASF,both_CASF)\n",
    "only_drugs_CASD = set_only(reliable_drugs_itemsets_CASD,both_CASD)\n",
    "only_drugs_MI = set_only(reliable_drugs_itemsets_MI,both_MI)\n",
    "only_drugs_NY = set_only(reliable_drugs_itemsets_NY,both_NY)\n",
    "only_drugs_AZ = set_only(reliable_drugs_itemsets_AZ,both_AZ)\n",
    "only_drugs_WA = set_only(reliable_drugs_itemsets_WA,both_WA)\n",
    "only_drugs_LA = set_only(reliable_drugs_itemsets_LA,both_LA)\n",
    "only_drugs_MN = set_only(reliable_drugs_itemsets_MN,both_MN)\n",
    "only_drugs_IL = set_only(reliable_drugs_itemsets_IL,both_IL)\n",
    "all_drugs = only_drugs_MA + only_drugs_FL + only_drugs_TX + only_drugs_CO + only_drugs_CASF + only_drugs_CASD +  only_drugs_MI + only_drugs_AZ+ only_drugs_NY+ only_drugs_WA + only_drugs_MN + only_drugs_IL+only_drugs_LA"
   ]
  },
  {
   "cell_type": "code",
   "execution_count": 20,
   "metadata": {
    "colab": {
     "base_uri": "https://localhost:8080/"
    },
    "id": "N4qt1wyU9Y_o",
    "outputId": "85ba1868-3399-4104-80fb-765712d2f5e9"
   },
   "outputs": [
    {
     "name": "stderr",
     "output_type": "stream",
     "text": [
      "/usr/local/lib/python3.10/dist-packages/ipykernel/ipkernel.py:283: DeprecationWarning: `should_run_async` will not call `transform_cell` automatically in the future. Please pass the result to `transformed_cell` argument and any exception that happen during thetransform in `preprocessing_exc_tuple` in IPython 7.17 and above.\n",
      "  and should_run_async(code)\n"
     ]
    }
   ],
   "source": [
    "from collections import Counter\n",
    "\n",
    "def find_repeated_lists(lists_of_lists, repetition_count):\n",
    "    tuples = [tuple(lst) for lst in lists_of_lists]\n",
    "    counts = Counter(tuples)\n",
    "    repeated = [list(tpl) for tpl, count in counts.items() if count >= repetition_count]\n",
    "\n",
    "    return repeated\n",
    "\n",
    "repeated_alcohol = find_repeated_lists(all_alcohol, 13)\n",
    "repeated_drugs = find_repeated_lists(all_drugs, 13)\n",
    "\n",
    "repeated_alcohol_12 = find_repeated_lists(all_alcohol, 12)\n",
    "repeated_drugs_12 = find_repeated_lists(all_drugs, 12)\n",
    "\n",
    "repeated_alcohol_11 = find_repeated_lists(all_alcohol, 11)\n",
    "repeated_drugs_11 = find_repeated_lists(all_drugs, 11)\n",
    "\n",
    "repeated_alcohol_9 = find_repeated_lists(all_alcohol, 9)\n",
    "repeated_drugs_9 = find_repeated_lists(all_drugs, 9)"
   ]
  },
  {
   "cell_type": "code",
   "execution_count": 14,
   "metadata": {
    "colab": {
     "base_uri": "https://localhost:8080/"
    },
    "id": "6r3qY_Pe9vbC",
    "outputId": "c1a36fd3-a7fe-4b71-8d8b-9a0674a47068"
   },
   "outputs": [
    {
     "name": "stderr",
     "output_type": "stream",
     "text": [
      "/usr/local/lib/python3.10/dist-packages/ipykernel/ipkernel.py:283: DeprecationWarning: `should_run_async` will not call `transform_cell` automatically in the future. Please pass the result to `transformed_cell` argument and any exception that happen during thetransform in `preprocessing_exc_tuple` in IPython 7.17 and above.\n",
      "  and should_run_async(code)\n"
     ]
    },
    {
     "data": {
      "text/plain": [
       "[['alcohol only(age < 21)'], ['Young', 'alcohol only(age < 21)']]"
      ]
     },
     "execution_count": 14,
     "metadata": {},
     "output_type": "execute_result"
    }
   ],
   "source": [
    "repeated_alcohol"
   ]
  },
  {
   "cell_type": "code",
   "execution_count": 15,
   "metadata": {
    "colab": {
     "base_uri": "https://localhost:8080/"
    },
    "id": "AgUBbMCA9y0f",
    "outputId": "6ad0d7cd-6ce3-4857-9ce4-538f1befffe1"
   },
   "outputs": [
    {
     "name": "stderr",
     "output_type": "stream",
     "text": [
      "/usr/local/lib/python3.10/dist-packages/ipykernel/ipkernel.py:283: DeprecationWarning: `should_run_async` will not call `transform_cell` automatically in the future. Please pass the result to `transformed_cell` argument and any exception that happen during thetransform in `preprocessing_exc_tuple` in IPython 7.17 and above.\n",
      "  and should_run_async(code)\n"
     ]
    },
    {
     "data": {
      "text/plain": [
       "[['other'], ['adverse reaction'], ['Middle Age']]"
      ]
     },
     "execution_count": 15,
     "metadata": {},
     "output_type": "execute_result"
    }
   ],
   "source": [
    "repeated_drugs"
   ]
  },
  {
   "cell_type": "code",
   "execution_count": 16,
   "metadata": {
    "colab": {
     "base_uri": "https://localhost:8080/"
    },
    "id": "ovqN28Xc90e3",
    "outputId": "99cafa62-d4da-4119-d596-c9ab4d879941"
   },
   "outputs": [
    {
     "name": "stderr",
     "output_type": "stream",
     "text": [
      "/usr/local/lib/python3.10/dist-packages/ipykernel/ipkernel.py:283: DeprecationWarning: `should_run_async` will not call `transform_cell` automatically in the future. Please pass the result to `transformed_cell` argument and any exception that happen during thetransform in `preprocessing_exc_tuple` in IPython 7.17 and above.\n",
      "  and should_run_async(code)\n"
     ]
    },
    {
     "data": {
      "text/plain": [
       "[['Young', 'alcohol only(age < 21)', 'white only'],\n",
       " ['alcohol only(age < 21)'],\n",
       " ['alcohol only(age < 21)', 'white only'],\n",
       " ['Young', 'alcohol only(age < 21)']]"
      ]
     },
     "execution_count": 16,
     "metadata": {},
     "output_type": "execute_result"
    }
   ],
   "source": [
    "repeated_alcohol_12"
   ]
  },
  {
   "cell_type": "code",
   "execution_count": 17,
   "metadata": {
    "colab": {
     "base_uri": "https://localhost:8080/"
    },
    "id": "jbTU9Wzt96Fy",
    "outputId": "7d31c4ad-0ddc-425b-c438-a30fa6d9e211"
   },
   "outputs": [
    {
     "name": "stderr",
     "output_type": "stream",
     "text": [
      "/usr/local/lib/python3.10/dist-packages/ipykernel/ipkernel.py:283: DeprecationWarning: `should_run_async` will not call `transform_cell` automatically in the future. Please pass the result to `transformed_cell` argument and any exception that happen during thetransform in `preprocessing_exc_tuple` in IPython 7.17 and above.\n",
      "  and should_run_async(code)\n"
     ]
    },
    {
     "data": {
      "text/plain": [
       "[['other'], ['adverse reaction'], ['Middle Age']]"
      ]
     },
     "execution_count": 17,
     "metadata": {},
     "output_type": "execute_result"
    }
   ],
   "source": [
    "repeated_drugs_12"
   ]
  },
  {
   "cell_type": "code",
   "execution_count": 18,
   "metadata": {
    "colab": {
     "base_uri": "https://localhost:8080/"
    },
    "id": "oodYeNCj98Kx",
    "outputId": "1f7b3478-4d7d-4652-ef36-de20e1bbcdcd"
   },
   "outputs": [
    {
     "name": "stderr",
     "output_type": "stream",
     "text": [
      "/usr/local/lib/python3.10/dist-packages/ipykernel/ipkernel.py:283: DeprecationWarning: `should_run_async` will not call `transform_cell` automatically in the future. Please pass the result to `transformed_cell` argument and any exception that happen during thetransform in `preprocessing_exc_tuple` in IPython 7.17 and above.\n",
      "  and should_run_async(code)\n"
     ]
    },
    {
     "data": {
      "text/plain": [
       "[['Young', 'alcohol only(age < 21)', 'white only'],\n",
       " ['alcohol only(age < 21)'],\n",
       " ['alcohol only(age < 21)', 'white only'],\n",
       " ['Young', 'alcohol only(age < 21)']]"
      ]
     },
     "execution_count": 18,
     "metadata": {},
     "output_type": "execute_result"
    }
   ],
   "source": [
    "repeated_alcohol_11"
   ]
  },
  {
   "cell_type": "code",
   "execution_count": 19,
   "metadata": {
    "colab": {
     "base_uri": "https://localhost:8080/"
    },
    "id": "6BZOT1V-9-ma",
    "outputId": "ef093df6-3232-445b-9248-2dca4d846499"
   },
   "outputs": [
    {
     "name": "stderr",
     "output_type": "stream",
     "text": [
      "/usr/local/lib/python3.10/dist-packages/ipykernel/ipkernel.py:283: DeprecationWarning: `should_run_async` will not call `transform_cell` automatically in the future. Please pass the result to `transformed_cell` argument and any exception that happen during thetransform in `preprocessing_exc_tuple` in IPython 7.17 and above.\n",
      "  and should_run_async(code)\n"
     ]
    },
    {
     "data": {
      "text/plain": [
       "[['other'], ['adverse reaction'], ['Middle Age']]"
      ]
     },
     "execution_count": 19,
     "metadata": {},
     "output_type": "execute_result"
    }
   ],
   "source": [
    "repeated_drugs_11"
   ]
  },
  {
   "cell_type": "code",
   "execution_count": 21,
   "metadata": {
    "colab": {
     "base_uri": "https://localhost:8080/"
    },
    "id": "sSyM4gBQ-BUM",
    "outputId": "bdb78604-f2b7-4d69-c1d6-04f760e5bf59"
   },
   "outputs": [
    {
     "name": "stderr",
     "output_type": "stream",
     "text": [
      "/usr/local/lib/python3.10/dist-packages/ipykernel/ipkernel.py:283: DeprecationWarning: `should_run_async` will not call `transform_cell` automatically in the future. Please pass the result to `transformed_cell` argument and any exception that happen during thetransform in `preprocessing_exc_tuple` in IPython 7.17 and above.\n",
      "  and should_run_async(code)\n"
     ]
    },
    {
     "data": {
      "text/plain": [
       "[['Young', 'alcohol only(age < 21)', 'white only'],\n",
       " ['alcohol only(age < 21)'],\n",
       " ['alcohol only(age < 21)', 'white only'],\n",
       " ['Young', 'alcohol only(age < 21)'],\n",
       " ['Young', 'white only']]"
      ]
     },
     "execution_count": 21,
     "metadata": {},
     "output_type": "execute_result"
    }
   ],
   "source": [
    "repeated_alcohol_9"
   ]
  },
  {
   "cell_type": "code",
   "execution_count": 22,
   "metadata": {
    "colab": {
     "base_uri": "https://localhost:8080/"
    },
    "id": "HPPSLqcqR6hH",
    "outputId": "ba64f04a-ac52-4858-9e15-c9c8992aaf52"
   },
   "outputs": [
    {
     "name": "stderr",
     "output_type": "stream",
     "text": [
      "/usr/local/lib/python3.10/dist-packages/ipykernel/ipkernel.py:283: DeprecationWarning: `should_run_async` will not call `transform_cell` automatically in the future. Please pass the result to `transformed_cell` argument and any exception that happen during thetransform in `preprocessing_exc_tuple` in IPython 7.17 and above.\n",
      "  and should_run_async(code)\n"
     ]
    },
    {
     "data": {
      "text/plain": [
       "[['Old'], ['other'], ['adverse reaction'], ['Middle Age']]"
      ]
     },
     "execution_count": 22,
     "metadata": {},
     "output_type": "execute_result"
    }
   ],
   "source": [
    "repeated_drugs_9"
   ]
  },
  {
   "cell_type": "code",
   "execution_count": 24,
   "metadata": {
    "colab": {
     "base_uri": "https://localhost:8080/"
    },
    "id": "MTs3irMAR-hh",
    "outputId": "9e7c47c4-5196-4915-cc04-dd3ea7af7649"
   },
   "outputs": [
    {
     "name": "stderr",
     "output_type": "stream",
     "text": [
      "/usr/local/lib/python3.10/dist-packages/ipykernel/ipkernel.py:283: DeprecationWarning: `should_run_async` will not call `transform_cell` automatically in the future. Please pass the result to `transformed_cell` argument and any exception that happen during thetransform in `preprocessing_exc_tuple` in IPython 7.17 and above.\n",
      "  and should_run_async(code)\n"
     ]
    }
   ],
   "source": [
    "def set_only(list1, list2):\n",
    "    set1 = {tuple(itemset) for itemset in list1}\n",
    "    set2 = {tuple(itemset) for itemset in list2}\n",
    "\n",
    "    difference = set1 - set2\n",
    "\n",
    "    return [list(itemset) for itemset in difference]\n",
    "\n",
    "#Reliable and Unique for each Metro\n",
    "Reliable_Unique_Alcohol_MA = set_only(only_alcohol_MA, repeated_alcohol_9)\n",
    "Reliable_Unique_Alcohol_LA = set_only(only_alcohol_LA, repeated_alcohol_9)\n",
    "Reliable_Unique_Alcohol_FL = set_only(only_alcohol_FL, repeated_alcohol_9)\n",
    "Reliable_Unique_Alcohol_TX = set_only(only_alcohol_TX, repeated_alcohol_9)\n",
    "Reliable_Unique_Alcohol_MN = set_only(only_alcohol_MN, repeated_alcohol_9)\n",
    "Reliable_Unique_Alcohol_MI = set_only(only_alcohol_MI, repeated_alcohol_9)\n",
    "Reliable_Unique_Alcohol_WA = set_only(only_alcohol_WA, repeated_alcohol_9)\n",
    "Reliable_Unique_Alcohol_NY = set_only(only_alcohol_NY, repeated_alcohol_9)\n",
    "Reliable_Unique_Alcohol_CASD = set_only(only_alcohol_CASD, repeated_alcohol_9)\n",
    "Reliable_Unique_Alcohol_CASF = set_only(only_alcohol_CASF, repeated_alcohol_9)\n",
    "Reliable_Unique_Alcohol_AZ = set_only(only_alcohol_AZ, repeated_alcohol_9)\n",
    "Reliable_Unique_Alcohol_IL = set_only(only_alcohol_IL, repeated_alcohol_9)\n",
    "Reliable_Unique_Alcohol_CO = set_only(only_alcohol_CO, repeated_alcohol_9)\n",
    "\n",
    "Reliable_Unique_Drugs_MA = set_only(only_drugs_MA, repeated_drugs_9)\n",
    "Reliable_Unique_Drugs_LA = set_only(only_drugs_LA, repeated_drugs_9)\n",
    "Reliable_Unique_Drugs_FL = set_only(only_drugs_FL, repeated_drugs_9)\n",
    "Reliable_Unique_Drugs_TX = set_only(only_drugs_TX, repeated_drugs_9)\n",
    "Reliable_Unique_Drugs_MN = set_only(only_drugs_MN, repeated_drugs_9)\n",
    "Reliable_Unique_Drugs_MI = set_only(only_drugs_MI, repeated_drugs_9)\n",
    "Reliable_Unique_Drugs_WA = set_only(only_drugs_WA, repeated_drugs_9)\n",
    "Reliable_Unique_Drugs_NY = set_only(only_drugs_NY, repeated_drugs_9)\n",
    "Reliable_Unique_Drugs_CASD = set_only(only_drugs_CASD, repeated_drugs_9)\n",
    "Reliable_Unique_Drugs_CASF = set_only(only_drugs_CASF, repeated_drugs_9)\n",
    "Reliable_Unique_Drugs_AZ = set_only(only_drugs_AZ, repeated_drugs_9)\n",
    "Reliable_Unique_Drugs_IL = set_only(only_drugs_IL, repeated_drugs_9)\n",
    "Reliable_Unique_Drugs_CO = set_only(only_drugs_CO, repeated_drugs_9)"
   ]
  },
  {
   "cell_type": "code",
   "execution_count": 25,
   "metadata": {
    "colab": {
     "base_uri": "https://localhost:8080/"
    },
    "id": "JV7-PSHwTfYY",
    "outputId": "949ec229-9c7d-4923-c98d-126949f90456"
   },
   "outputs": [
    {
     "name": "stderr",
     "output_type": "stream",
     "text": [
      "/usr/local/lib/python3.10/dist-packages/ipykernel/ipkernel.py:283: DeprecationWarning: `should_run_async` will not call `transform_cell` automatically in the future. Please pass the result to `transformed_cell` argument and any exception that happen during thetransform in `preprocessing_exc_tuple` in IPython 7.17 and above.\n",
      "  and should_run_async(code)\n"
     ]
    },
    {
     "data": {
      "text/plain": [
       "[['Young', 'any hispanic or latino'],\n",
       " ['Young', 'alcohol only(age < 21)', 'any hispanic or latino'],\n",
       " ['Young', 'PNS', 'alcohol only(age < 21)'],\n",
       " ['PNS', 'alcohol only(age < 21)'],\n",
       " ['any hispanic or latino', 'alcohol only(age < 21)'],\n",
       " ['Young', 'PNS']]"
      ]
     },
     "execution_count": 25,
     "metadata": {},
     "output_type": "execute_result"
    }
   ],
   "source": [
    "Reliable_Unique_Alcohol_NY"
   ]
  },
  {
   "cell_type": "code",
   "execution_count": 26,
   "metadata": {
    "colab": {
     "base_uri": "https://localhost:8080/"
    },
    "id": "D2MTNEb4Tm3k",
    "outputId": "708516a0-fa20-4b6d-a911-4df94fd49d59"
   },
   "outputs": [
    {
     "name": "stderr",
     "output_type": "stream",
     "text": [
      "/usr/local/lib/python3.10/dist-packages/ipykernel/ipkernel.py:283: DeprecationWarning: `should_run_async` will not call `transform_cell` automatically in the future. Please pass the result to `transformed_cell` argument and any exception that happen during thetransform in `preprocessing_exc_tuple` in IPython 7.17 and above.\n",
      "  and should_run_async(code)\n"
     ]
    },
    {
     "data": {
      "text/plain": [
       "[['Young', 'PNS', 'alcohol only(age < 21)'],\n",
       " ['PNS'],\n",
       " ['PNS', 'alcohol only(age < 21)'],\n",
       " ['Young', 'PNS']]"
      ]
     },
     "execution_count": 26,
     "metadata": {},
     "output_type": "execute_result"
    }
   ],
   "source": [
    "Reliable_Unique_Alcohol_CASD"
   ]
  },
  {
   "cell_type": "code",
   "execution_count": 34,
   "metadata": {
    "colab": {
     "base_uri": "https://localhost:8080/",
     "height": 754
    },
    "id": "8uYHgFShWGS4",
    "outputId": "f5fd7a55-878e-4c0d-9780-4064f6ef5f71"
   },
   "outputs": [
    {
     "name": "stderr",
     "output_type": "stream",
     "text": [
      "/usr/local/lib/python3.10/dist-packages/ipykernel/ipkernel.py:283: DeprecationWarning: `should_run_async` will not call `transform_cell` automatically in the future. Please pass the result to `transformed_cell` argument and any exception that happen during thetransform in `preprocessing_exc_tuple` in IPython 7.17 and above.\n",
      "  and should_run_async(code)\n"
     ]
    },
    {
     "data": {
      "image/png": "[encoded data removed]",
      "text/plain": [
       "<Figure size 1000x800 with 2 Axes>"
      ]
     },
     "metadata": {},
     "output_type": "display_data"
    }
   ],
   "source": [
    "import seaborn as sns\n",
    "import matplotlib.pyplot as plt\n",
    "import numpy as np\n",
    "import pandas as pd\n",
    "\n",
    "\n",
    "def jaccard_similarity(list1, list2):\n",
    "  \n",
    "    set1 = set(tuple(row) for row in list1)\n",
    "    set2 = set(tuple(row) for row in list2)\n",
    "\n",
    "  \n",
    "    intersection = set1.intersection(set2)\n",
    "    union = set1.union(set2)\n",
    "\n",
    "   \n",
    "    similarity = len(intersection) / len(union)\n",
    "    return similarity\n",
    "\n",
    "variables = {\n",
    "    'AZ': Reliable_Unique_Alcohol_AZ,\n",
    "    'CASD': Reliable_Unique_Alcohol_CASD,\n",
    "    'CASF': Reliable_Unique_Alcohol_CASF,\n",
    "    'CO': Reliable_Unique_Alcohol_CO,\n",
    "    'FL': Reliable_Unique_Alcohol_FL,\n",
    "    'IL': Reliable_Unique_Alcohol_IL,\n",
    "    'LA': Reliable_Unique_Alcohol_LA,\n",
    "    'MA': Reliable_Unique_Alcohol_MA,\n",
    "    'MI': Reliable_Unique_Alcohol_MI,\n",
    "    'MN': Reliable_Unique_Alcohol_MN,\n",
    "    'NY': Reliable_Unique_Alcohol_NY,\n",
    "    'TX': Reliable_Unique_Alcohol_TX,\n",
    "    'WA': Reliable_Unique_Alcohol_WA\n",
    "   \n",
    "}\n",
    "\n",
    "\n",
    "similarity_matrix = np.zeros((len(variables), len(variables)))\n",
    "keys = list(variables.keys())\n",
    "for i, key1 in enumerate(keys):\n",
    "    for j, key2 in enumerate(keys):\n",
    "        similarity_matrix[i, j] = jaccard_similarity(variables[key1], variables[key2])\n",
    "\n",
    "similarity_df = pd.DataFrame(similarity_matrix, index=keys, columns=keys)\n",
    "plt.figure(figsize=(10, 8))\n",
    "sns.heatmap(similarity_df, annot=True, cmap='coolwarm', fmt=\".2f\")\n",
    "plt.title('Jaccard Similarity Heatmap for Alcohol')\n",
    "plt.show()\n"
   ]
  },
  {
   "cell_type": "code",
   "execution_count": 31,
   "metadata": {
    "colab": {
     "base_uri": "https://localhost:8080/"
    },
    "id": "iCPKFSEQWrtG",
    "outputId": "67d81a13-3c63-47bf-e550-48f7bcfb4da9"
   },
   "outputs": [
    {
     "name": "stderr",
     "output_type": "stream",
     "text": [
      "/usr/local/lib/python3.10/dist-packages/ipykernel/ipkernel.py:283: DeprecationWarning: `should_run_async` will not call `transform_cell` automatically in the future. Please pass the result to `transformed_cell` argument and any exception that happen during thetransform in `preprocessing_exc_tuple` in IPython 7.17 and above.\n",
      "  and should_run_async(code)\n"
     ]
    },
    {
     "data": {
      "text/plain": [
       "[['Young', 'PNS', 'alcohol only(age < 21)'],\n",
       " ['PNS', 'alcohol only(age < 21)'],\n",
       " ['Young', 'PNS']]"
      ]
     },
     "execution_count": 31,
     "metadata": {},
     "output_type": "execute_result"
    }
   ],
   "source": [
    "Reliable_Unique_Alcohol_MA"
   ]
  },
  {
   "cell_type": "code",
   "execution_count": 32,
   "metadata": {
    "colab": {
     "base_uri": "https://localhost:8080/"
    },
    "id": "xMTvOlT3Wt72",
    "outputId": "2636233a-8008-4cd4-edf3-02f72ed4f68a"
   },
   "outputs": [
    {
     "name": "stderr",
     "output_type": "stream",
     "text": [
      "/usr/local/lib/python3.10/dist-packages/ipykernel/ipkernel.py:283: DeprecationWarning: `should_run_async` will not call `transform_cell` automatically in the future. Please pass the result to `transformed_cell` argument and any exception that happen during thetransform in `preprocessing_exc_tuple` in IPython 7.17 and above.\n",
      "  and should_run_async(code)\n"
     ]
    },
    {
     "data": {
      "text/plain": [
       "[['Young', 'PNS', 'alcohol only(age < 21)'],\n",
       " ['PNS', 'alcohol only(age < 21)'],\n",
       " ['Young', 'PNS']]"
      ]
     },
     "execution_count": 32,
     "metadata": {},
     "output_type": "execute_result"
    }
   ],
   "source": [
    "Reliable_Unique_Alcohol_MN"
   ]
  },
  {
   "cell_type": "code",
   "execution_count": 35,
   "metadata": {
    "colab": {
     "base_uri": "https://localhost:8080/",
     "height": 754
    },
    "id": "6DLxUNQeWvz-",
    "outputId": "bbee0881-1cb9-4434-96f5-44ef4471ef2d"
   },
   "outputs": [
    {
     "name": "stderr",
     "output_type": "stream",
     "text": [
      "/usr/local/lib/python3.10/dist-packages/ipykernel/ipkernel.py:283: DeprecationWarning: `should_run_async` will not call `transform_cell` automatically in the future. Please pass the result to `transformed_cell` argument and any exception that happen during thetransform in `preprocessing_exc_tuple` in IPython 7.17 and above.\n",
      "  and should_run_async(code)\n"
     ]
    },
    {
     "data": {
      "image/png": "[encoded data removed]",
      "text/plain": [
       "<Figure size 1000x800 with 2 Axes>"
      ]
     },
     "metadata": {},
     "output_type": "display_data"
    }
   ],
   "source": [
    "variables = {\n",
    "    'AZ': Reliable_Unique_Drugs_AZ,\n",
    "    'CASD': Reliable_Unique_Drugs_CASD,\n",
    "    'CASF': Reliable_Unique_Drugs_CASF,\n",
    "    'CO': Reliable_Unique_Drugs_CO,\n",
    "    'FL': Reliable_Unique_Drugs_FL,\n",
    "    'IL': Reliable_Unique_Drugs_IL,\n",
    "    'LA': Reliable_Unique_Drugs_LA,\n",
    "    'MA': Reliable_Unique_Drugs_MA,\n",
    "    'MI': Reliable_Unique_Drugs_MI,\n",
    "    'MN': Reliable_Unique_Drugs_MN,\n",
    "    'NY': Reliable_Unique_Drugs_NY,\n",
    "    'TX': Reliable_Unique_Drugs_TX,\n",
    "    'WA': Reliable_Unique_Drugs_WA\n",
    "\n",
    "    \n",
    "}\n",
    "\n",
    "\n",
    "similarity_matrix = np.zeros((len(variables), len(variables)))\n",
    "keys = list(variables.keys())\n",
    "for i, key1 in enumerate(keys):\n",
    "    for j, key2 in enumerate(keys):\n",
    "        similarity_matrix[i, j] = jaccard_similarity(variables[key1], variables[key2])\n",
    "\n",
    "similarity_df = pd.DataFrame(similarity_matrix, index=keys, columns=keys)\n",
    "\n",
    "plt.figure(figsize=(10, 8))\n",
    "sns.heatmap(similarity_df, annot=True, cmap='coolwarm', fmt=\".2f\")\n",
    "plt.title('Jaccard Similarity Heatmap for Drugs')\n",
    "plt.show()"
   ]
  }
 ],
 "metadata": {
  "colab": {
   "provenance": []
  },
  "kernelspec": {
   "display_name": "Python 3 (ipykernel)",
   "language": "python",
   "name": "python3"
  },
  "language_info": {
   "codemirror_mode": {
    "name": "ipython",
    "version": 3
   },
   "file_extension": ".py",
   "mimetype": "text/x-python",
   "name": "python",
   "nbconvert_exporter": "python",
   "pygments_lexer": "ipython3",
   "version": "3.9.12"
  }
 },
 "nbformat": 4,
 "nbformat_minor": 1
}
