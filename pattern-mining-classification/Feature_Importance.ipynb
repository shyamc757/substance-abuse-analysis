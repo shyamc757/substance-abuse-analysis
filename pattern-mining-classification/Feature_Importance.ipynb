{
  "nbformat": 4,
  "nbformat_minor": 0,
  "metadata": {
    "colab": {
      "provenance": []
    },
    "kernelspec": {
      "name": "python3",
      "display_name": "Python 3"
    },
    "language_info": {
      "name": "python"
    }
  },
  "cells": [
    {
      "cell_type": "code",
      "execution_count": null,
      "metadata": {
        "colab": {
          "base_uri": "https://localhost:8080/"
        },
        "id": "zwZTTnWw7HaV",
        "outputId": "364937c4-3571-4198-ef4c-3631396442d4"
      },
      "outputs": [
        {
          "output_type": "stream",
          "name": "stdout",
          "text": [
            "Mounted at /content/drive\n"
          ]
        }
      ],
      "source": [
        "from google.colab import drive\n",
        "drive.mount('/content/drive')"
      ]
    },
    {
      "cell_type": "code",
      "source": [
        "import pandas as pd\n",
        "data = pd.read_csv(\"/content/drive/MyDrive/Data Mining Data /Cleaned_DAWN_Data_2004-2011.csv\")\n",
        "y_2004 = pd.read_csv(\"/content/drive/MyDrive/Data Mining Data /DAWN_Data_2004.csv\")\n",
        "y_2005 = pd.read_csv(\"/content/drive/MyDrive/Data Mining Data /DAWN_Data_2005.csv\")\n",
        "y_2006 = pd.read_csv(\"/content/drive/MyDrive/Data Mining Data /DAWN_Data_2006.csv\")\n",
        "y_2007 = pd.read_csv(\"/content/drive/MyDrive/Data Mining Data /DAWN_Data_2007.csv\")\n",
        "y_2008 = pd.read_csv(\"/content/drive/MyDrive/Data Mining Data /DAWN_Data_2008.csv\")\n",
        "y_2009 = pd.read_csv(\"/content/drive/MyDrive/Data Mining Data /DAWN_Data_2009.csv\")\n",
        "y_2010 = pd.read_csv(\"/content/drive/MyDrive/Data Mining Data /DAWN_Data_2010.csv\")\n",
        "y_2011 = pd.read_csv(\"/content/drive/MyDrive/Data Mining Data /DAWN_Data_2011.csv\")\n",
        "\n",
        "dataframes = {\n",
        "    'y_2004': y_2004,\n",
        "    'y_2005': y_2005,\n",
        "    'y_2006': y_2006,\n",
        "    'y_2007': y_2007,\n",
        "    'y_2008': y_2008,\n",
        "    'y_2009': y_2009,\n",
        "    'y_2010': y_2010,\n",
        "    'y_2011': y_2011,\n",
        "}\n",
        "\n",
        "metro_mapping = {1:'MA',2:'NY',3:'IL',4:'MI',5:'MN',6:'FL',7:'TX',8:'LA',9:'CO',10:'AZ',11:'CA-SD',12:'CA-SF',13:'WA',14:'Other'}\n",
        "agecat_mapping = {1:'<=5',2:'6-11',3:'12-17',4:'18-20',5:'21-24',6:'25-29',7:'30-34',8:'35-44',9:'45-54',10:'55-64',11:'>=65',-8:'PNS'}\n",
        "sex_mapping = {1:'M',2:'F',-8:'PNS'}\n",
        "race_mapping = {1:'white only',2:'black or african american only',3:'any hispanic or latino',4:'all other races',-8:'PNS'}\n",
        "casetype_mapping = {1:'suicide attempt',2:'seeking detox',3:'alcohol only(age < 21)',4:'adverse reaction',5:'overmedication',6:'malicious poisoning',7:'accidental ingestion',8:'other'}\n",
        "disposition_mapping = {1:'discharged home',2:'released to police/jail',3:'reffered to detox/treatment',4:'ICU/critical care',5:'surgery',6:'chemical dependency/detox, psychiatric unit',7:'other inpatient unit',8:'transferred',9:'left against medical advice',10:'died',96:'other',-8:'PNS'}\n",
        "\n",
        "for df in dataframes.values():\n",
        "    df['METRO'] = df['METRO'].replace(metro_mapping)\n",
        "    df['AGECAT'] = df['AGECAT'].replace(agecat_mapping)\n",
        "    df['SEX'] = df['SEX'].replace(sex_mapping)\n",
        "    df['RACE'] = df['RACE'].replace(race_mapping)\n",
        "    df['CASETYPE'] = df['CASETYPE'].replace(casetype_mapping)\n",
        "    df['DISPOSITION'] = df['DISPOSITION'].replace(disposition_mapping)\n",
        "\n",
        "\n",
        "def map_age_category(agecat):\n",
        "    if agecat in ['<=5', '6-11', '12-17', '18-20', '21-24', '25-29']:\n",
        "        return 'Young'\n",
        "    elif agecat in ['30-34', '35-44','45-54']:\n",
        "        return 'Middle Age'\n",
        "    elif agecat in ['55-64', '>=65']:\n",
        "        return 'Old'\n",
        "    else:\n",
        "        return 'Other'\n",
        "\n",
        "for year, df in dataframes.items():\n",
        "    df['AGECAT'] = df['AGECAT'].apply(map_age_category)\n",
        "\n",
        "import pandas as pd\n",
        "\n",
        "def classify_substance(row):\n",
        "    if row['ALCOHOL'] == 1 and row['NUMSUBS'] == 1:\n",
        "        return 'Alcohol'\n",
        "    elif row['ALCOHOL'] == 1 and (row['NUMSUBS'] > 1):\n",
        "        return 'Alcohol_DRUGS'\n",
        "    elif row['ALCOHOL'] == 0 and (row['NUMSUBS']>0 ):\n",
        "        return 'DRUGS'\n",
        "    else:\n",
        "        return 'None'"
      ],
      "metadata": {
        "colab": {
          "base_uri": "https://localhost:8080/"
        },
        "id": "F_ufBCue7NAi",
        "outputId": "6fb026a2-2b07-4344-f133-0ab37f56de79"
      },
      "execution_count": null,
      "outputs": [
        {
          "output_type": "stream",
          "name": "stderr",
          "text": [
            "<ipython-input-2-d0659f955393>:2: DtypeWarning: Columns (12,15,16,17,18,19) have mixed types. Specify dtype option on import or set low_memory=False.\n",
            "  data = pd.read_csv(\"/content/drive/MyDrive/Data Mining Data /Cleaned_DAWN_Data_2004-2011.csv\")\n",
            "<ipython-input-2-d0659f955393>:8: DtypeWarning: Columns (8,13,16,17,18,19,20) have mixed types. Specify dtype option on import or set low_memory=False.\n",
            "  y_2009 = pd.read_csv(\"/content/drive/MyDrive/Data Mining Data /DAWN_Data_2009.csv\")\n"
          ]
        }
      ]
    },
    {
      "cell_type": "code",
      "source": [
        "y_2004['SUBSTANCE_TYPE'] = y_2004.apply(classify_substance, axis=1)\n",
        "sequences_2004 = y_2004.groupby('CASEID')['SUBSTANCE_TYPE'].apply(list)\n",
        "sequences_2004 = sequences_2004.apply(lambda x: ','.join(x))\n",
        "\n",
        "y_2005['SUBSTANCE_TYPE'] = y_2005.apply(classify_substance, axis=1)\n",
        "sequences_2005 = y_2005.groupby('CASEID')['SUBSTANCE_TYPE'].apply(list)\n",
        "sequences_2005 = sequences_2005.apply(lambda x: ','.join(x))\n",
        "\n",
        "y_2006['SUBSTANCE_TYPE'] = y_2006.apply(classify_substance, axis=1)\n",
        "sequences_2006 = y_2006.groupby('CASEID')['SUBSTANCE_TYPE'].apply(list)\n",
        "sequences_2006 = sequences_2006.apply(lambda x: ','.join(x))\n",
        "\n",
        "y_2007['SUBSTANCE_TYPE'] = y_2007.apply(classify_substance, axis=1)\n",
        "sequences_2007 = y_2007.groupby('CASEID')['SUBSTANCE_TYPE'].apply(list)\n",
        "sequences_2007 = sequences_2007.apply(lambda x: ','.join(x))\n",
        "\n",
        "y_2008['SUBSTANCE_TYPE'] = y_2008.apply(classify_substance, axis=1)\n",
        "sequences_2008 = y_2008.groupby('CASEID')['SUBSTANCE_TYPE'].apply(list)\n",
        "sequences_2008 = sequences_2008.apply(lambda x: ','.join(x))\n",
        "\n",
        "y_2009['SUBSTANCE_TYPE'] = y_2009.apply(classify_substance, axis=1)\n",
        "sequences_2009 = y_2009.groupby('CASEID')['SUBSTANCE_TYPE'].apply(list)\n",
        "sequences_2009 = sequences_2009.apply(lambda x: ','.join(x))\n",
        "\n",
        "y_2010['SUBSTANCE_TYPE'] = y_2010.apply(classify_substance, axis=1)\n",
        "sequences_2010 = y_2010.groupby('CASEID')['SUBSTANCE_TYPE'].apply(list)\n",
        "sequences_2010 = sequences_2010.apply(lambda x: ','.join(x))\n",
        "\n",
        "y_2011['SUBSTANCE_TYPE'] = y_2011.apply(classify_substance, axis=1)\n",
        "sequences_2011 = y_2011.groupby('CASEID')['SUBSTANCE_TYPE'].apply(list)\n",
        "sequences_2011 = sequences_2011.apply(lambda x: ','.join(x))"
      ],
      "metadata": {
        "id": "vy856C8w7Wc1"
      },
      "execution_count": null,
      "outputs": []
    },
    {
      "cell_type": "code",
      "source": [
        "sequences_df = y_2004.groupby('CASEID')['SUBSTANCE_TYPE'].apply(list).reset_index(name='SEQUENCE')\n",
        "sequences_df['SEQUENCE'] = sequences_df['SEQUENCE'].apply(lambda x: ','.join(x))\n",
        "attributes_df = y_2004.drop_duplicates(subset='CASEID')[['CASEID', 'METRO', 'AGECAT', 'SEX', 'RACE', 'CASETYPE', 'DAYPART', 'QUARTER']]\n",
        "df_2004 = pd.merge(attributes_df, sequences_df, on='CASEID')\n",
        "\n",
        "sequences_df = y_2005.groupby('CASEID')['SUBSTANCE_TYPE'].apply(list).reset_index(name='SEQUENCE')\n",
        "sequences_df['SEQUENCE'] = sequences_df['SEQUENCE'].apply(lambda x: ','.join(x))\n",
        "attributes_df = y_2005.drop_duplicates(subset='CASEID')[['CASEID', 'METRO', 'AGECAT', 'SEX', 'RACE', 'CASETYPE', 'DAYPART', 'QUARTER']]\n",
        "df_2005 = pd.merge(attributes_df, sequences_df, on='CASEID')\n",
        "\n",
        "sequences_df = y_2006.groupby('CASEID')['SUBSTANCE_TYPE'].apply(list).reset_index(name='SEQUENCE')\n",
        "sequences_df['SEQUENCE'] = sequences_df['SEQUENCE'].apply(lambda x: ','.join(x))\n",
        "attributes_df = y_2006.drop_duplicates(subset='CASEID')[['CASEID', 'METRO', 'AGECAT', 'SEX', 'RACE', 'CASETYPE', 'DAYPART', 'QUARTER']]\n",
        "df_2006 = pd.merge(attributes_df, sequences_df, on='CASEID')\n",
        "\n",
        "sequences_df = y_2007.groupby('CASEID')['SUBSTANCE_TYPE'].apply(list).reset_index(name='SEQUENCE')\n",
        "sequences_df['SEQUENCE'] = sequences_df['SEQUENCE'].apply(lambda x: ','.join(x))\n",
        "attributes_df = y_2007.drop_duplicates(subset='CASEID')[['CASEID', 'METRO', 'AGECAT', 'SEX', 'RACE', 'CASETYPE', 'DAYPART', 'QUARTER']]\n",
        "df_2007 = pd.merge(attributes_df, sequences_df, on='CASEID')\n",
        "\n",
        "sequences_df = y_2008.groupby('CASEID')['SUBSTANCE_TYPE'].apply(list).reset_index(name='SEQUENCE')\n",
        "sequences_df['SEQUENCE'] = sequences_df['SEQUENCE'].apply(lambda x: ','.join(x))\n",
        "attributes_df = y_2008.drop_duplicates(subset='CASEID')[['CASEID', 'METRO', 'AGECAT', 'SEX', 'RACE', 'CASETYPE', 'DAYPART', 'QUARTER']]\n",
        "df_2008 = pd.merge(attributes_df, sequences_df, on='CASEID')\n",
        "\n",
        "sequences_df = y_2009.groupby('CASEID')['SUBSTANCE_TYPE'].apply(list).reset_index(name='SEQUENCE')\n",
        "sequences_df['SEQUENCE'] = sequences_df['SEQUENCE'].apply(lambda x: ','.join(x))\n",
        "attributes_df = y_2009.drop_duplicates(subset='CASEID')[['CASEID', 'METRO', 'AGECAT', 'SEX', 'RACE', 'CASETYPE', 'DAYPART', 'QUARTER']]\n",
        "df_2009 = pd.merge(attributes_df, sequences_df, on='CASEID')\n",
        "\n",
        "sequences_df = y_2010.groupby('CASEID')['SUBSTANCE_TYPE'].apply(list).reset_index(name='SEQUENCE')\n",
        "sequences_df['SEQUENCE'] = sequences_df['SEQUENCE'].apply(lambda x: ','.join(x))\n",
        "attributes_df = y_2010.drop_duplicates(subset='CASEID')[['CASEID', 'METRO', 'AGECAT', 'SEX', 'RACE', 'CASETYPE', 'DAYPART', 'QUARTER']]\n",
        "df_2010 = pd.merge(attributes_df, sequences_df, on='CASEID')\n",
        "\n",
        "sequences_df = y_2011.groupby('CASEID')['SUBSTANCE_TYPE'].apply(list).reset_index(name='SEQUENCE')\n",
        "sequences_df['SEQUENCE'] = sequences_df['SEQUENCE'].apply(lambda x: ','.join(x))\n",
        "attributes_df = y_2011.drop_duplicates(subset='CASEID')[['CASEID', 'METRO', 'AGECAT', 'SEX', 'RACE', 'CASETYPE', 'DAYPART', 'QUARTER']]\n",
        "df_2011 = pd.merge(attributes_df, sequences_df, on='CASEID')"
      ],
      "metadata": {
        "id": "v7v_P0l37dSb"
      },
      "execution_count": null,
      "outputs": []
    },
    {
      "cell_type": "code",
      "source": [
        "from sklearn.ensemble import RandomForestClassifier\n",
        "from sklearn.preprocessing import LabelEncoder"
      ],
      "metadata": {
        "id": "0KHV42WC7fpm"
      },
      "execution_count": null,
      "outputs": []
    },
    {
      "cell_type": "code",
      "source": [
        "label_encoders = {}\n",
        "for column in ['METRO', 'AGECAT', 'SEX', 'RACE', 'CASETYPE', 'DAYPART']:\n",
        "    label_encoders[column] = LabelEncoder()\n",
        "    df_2004[column] = label_encoders[column].fit_transform(df_2004[column])\n",
        "\n",
        "df_2004['TARGET'] = df_2004['SEQUENCE'].map({'Alcohol': 0, 'Alcohol_DRUGS': 1, 'DRUGS': 2})\n",
        "\n",
        "label_encoders['SEQUENCE'] = LabelEncoder()\n",
        "df_2004['SEQUENCE'] = label_encoders['SEQUENCE'].fit_transform(df_2004['SEQUENCE'])\n",
        "\n",
        "X = df_2004[['METRO', 'AGECAT', 'SEX', 'RACE', 'DAYPART', 'QUARTER', 'CASETYPE']]\n",
        "y = df_2004['TARGET']\n",
        "\n",
        "clf = RandomForestClassifier(n_estimators=100, random_state=0)\n",
        "clf.fit(X, y)\n",
        "\n",
        "importances = clf.feature_importances_\n",
        "feature_names = X.columns.tolist()\n",
        "\n",
        "feature_importances = list(zip(feature_names, importances))\n",
        "sorted_feature_importances = sorted(feature_importances, key=lambda x: x[1], reverse=True)\n",
        "\n",
        "for name, importance in sorted_feature_importances:\n",
        "    print(f\"{name}: {importance}\")"
      ],
      "metadata": {
        "colab": {
          "base_uri": "https://localhost:8080/"
        },
        "id": "Wo4xnCT07q0v",
        "outputId": "ffaa7988-fec5-49f0-a1d4-7347ea3579b0"
      },
      "execution_count": null,
      "outputs": [
        {
          "output_type": "stream",
          "name": "stdout",
          "text": [
            "CASETYPE: 0.586726059589227\n",
            "METRO: 0.15818181245600643\n",
            "DAYPART: 0.05999022417634207\n",
            "QUARTER: 0.056834844041848506\n",
            "RACE: 0.056457844566083284\n",
            "AGECAT: 0.053724248668262205\n",
            "SEX: 0.028084966502230507\n"
          ]
        }
      ]
    },
    {
      "cell_type": "code",
      "source": [
        "label_encoders = {}\n",
        "for column in ['METRO', 'AGECAT', 'SEX', 'RACE', 'CASETYPE', 'DAYPART']:\n",
        "    label_encoders[column] = LabelEncoder()\n",
        "    df_2005[column] = label_encoders[column].fit_transform(df_2005[column])\n",
        "\n",
        "df_2005['TARGET'] = df_2005['SEQUENCE'].map({'Alcohol': 0, 'Alcohol_DRUGS': 1, 'DRUGS': 2})\n",
        "\n",
        "label_encoders['SEQUENCE'] = LabelEncoder()\n",
        "df_2005['SEQUENCE'] = label_encoders['SEQUENCE'].fit_transform(df_2005['SEQUENCE'])\n",
        "\n",
        "X = df_2005[['METRO', 'AGECAT', 'SEX', 'RACE', 'DAYPART', 'QUARTER', 'CASETYPE']]\n",
        "y = df_2005['TARGET']\n",
        "\n",
        "clf = RandomForestClassifier(n_estimators=100, random_state=0)\n",
        "clf.fit(X, y)\n",
        "\n",
        "importances = clf.feature_importances_\n",
        "feature_names = X.columns.tolist()\n",
        "\n",
        "feature_importances = list(zip(feature_names, importances))\n",
        "sorted_feature_importances = sorted(feature_importances, key=lambda x: x[1], reverse=True)\n",
        "\n",
        "for name, importance in sorted_feature_importances:\n",
        "    print(f\"{name}: {importance}\")"
      ],
      "metadata": {
        "colab": {
          "base_uri": "https://localhost:8080/"
        },
        "id": "YaK--3dp7s1c",
        "outputId": "3cd03aac-1328-412f-e705-411ef6726083"
      },
      "execution_count": null,
      "outputs": [
        {
          "output_type": "stream",
          "name": "stdout",
          "text": [
            "CASETYPE: 0.6357621270789768\n",
            "METRO: 0.12668336038959857\n",
            "AGECAT: 0.06041051815706712\n",
            "DAYPART: 0.053647228372268915\n",
            "RACE: 0.04733341393993927\n",
            "QUARTER: 0.04711281308768274\n",
            "SEX: 0.0290505389744666\n"
          ]
        }
      ]
    },
    {
      "cell_type": "code",
      "source": [
        "label_encoders = {}\n",
        "for column in ['METRO', 'AGECAT', 'SEX', 'RACE', 'CASETYPE', 'DAYPART']:\n",
        "    label_encoders[column] = LabelEncoder()\n",
        "    df_2006[column] = label_encoders[column].fit_transform(df_2006[column])\n",
        "\n",
        "df_2006['TARGET'] = df_2006['SEQUENCE'].map({'Alcohol': 0, 'Alcohol_DRUGS': 1, 'DRUGS': 2})\n",
        "\n",
        "label_encoders['SEQUENCE'] = LabelEncoder()\n",
        "df_2006['SEQUENCE'] = label_encoders['SEQUENCE'].fit_transform(df_2006['SEQUENCE'])\n",
        "\n",
        "X = df_2006[['METRO', 'AGECAT', 'SEX', 'RACE', 'DAYPART', 'QUARTER', 'CASETYPE']]\n",
        "y = df_2006['TARGET']\n",
        "\n",
        "clf = RandomForestClassifier(n_estimators=100, random_state=0)\n",
        "clf.fit(X, y)\n",
        "\n",
        "importances = clf.feature_importances_\n",
        "feature_names = X.columns.tolist()\n",
        "\n",
        "feature_importances = list(zip(feature_names, importances))\n",
        "sorted_feature_importances = sorted(feature_importances, key=lambda x: x[1], reverse=True)\n",
        "\n",
        "for name, importance in sorted_feature_importances:\n",
        "    print(f\"{name}: {importance}\")\n"
      ],
      "metadata": {
        "colab": {
          "base_uri": "https://localhost:8080/"
        },
        "id": "pFCgDsta7uoc",
        "outputId": "25f5dced-16f8-48be-a0bb-6818ce9ccf71"
      },
      "execution_count": null,
      "outputs": [
        {
          "output_type": "stream",
          "name": "stdout",
          "text": [
            "CASETYPE: 0.6517218069240268\n",
            "METRO: 0.12021732225050254\n",
            "AGECAT: 0.05789249276286241\n",
            "DAYPART: 0.05407697496909598\n",
            "RACE: 0.04656349294593504\n",
            "QUARTER: 0.0446028992402764\n",
            "SEX: 0.02492501090730083\n"
          ]
        }
      ]
    },
    {
      "cell_type": "code",
      "source": [
        "label_encoders = {}\n",
        "for column in ['METRO', 'AGECAT', 'SEX', 'RACE', 'CASETYPE', 'DAYPART']:\n",
        "    label_encoders[column] = LabelEncoder()\n",
        "    df_2007[column] = label_encoders[column].fit_transform(df_2007[column])\n",
        "\n",
        "df_2007['TARGET'] = df_2007['SEQUENCE'].map({'Alcohol': 0, 'Alcohol_DRUGS': 1, 'DRUGS': 2})\n",
        "\n",
        "label_encoders['SEQUENCE'] = LabelEncoder()\n",
        "df_2007['SEQUENCE'] = label_encoders['SEQUENCE'].fit_transform(df_2007['SEQUENCE'])\n",
        "\n",
        "X = df_2007[['METRO', 'AGECAT', 'SEX', 'RACE', 'DAYPART', 'QUARTER', 'CASETYPE']]\n",
        "y = df_2007['TARGET']\n",
        "\n",
        "clf = RandomForestClassifier(n_estimators=100, random_state=0)\n",
        "clf.fit(X, y)\n",
        "\n",
        "importances = clf.feature_importances_\n",
        "feature_names = X.columns.tolist()\n",
        "\n",
        "feature_importances = list(zip(feature_names, importances))\n",
        "sorted_feature_importances = sorted(feature_importances, key=lambda x: x[1], reverse=True)\n",
        "\n",
        "for name, importance in sorted_feature_importances:\n",
        "    print(f\"{name}: {importance}\")"
      ],
      "metadata": {
        "colab": {
          "base_uri": "https://localhost:8080/"
        },
        "id": "GdgEQ45B7w76",
        "outputId": "4d53517c-5e85-43e2-8da4-918a97ca2292"
      },
      "execution_count": null,
      "outputs": [
        {
          "output_type": "stream",
          "name": "stdout",
          "text": [
            "CASETYPE: 0.6614451368950456\n",
            "METRO: 0.11234893827117959\n",
            "AGECAT: 0.06048729073973346\n",
            "DAYPART: 0.05276721602041831\n",
            "RACE: 0.04471192821052159\n",
            "QUARTER: 0.04169295143148689\n",
            "SEX: 0.026546538431614537\n"
          ]
        }
      ]
    },
    {
      "cell_type": "code",
      "source": [
        "label_encoders = {}\n",
        "for column in ['METRO', 'AGECAT', 'SEX', 'RACE', 'CASETYPE', 'DAYPART']:\n",
        "    label_encoders[column] = LabelEncoder()\n",
        "    df_2008[column] = label_encoders[column].fit_transform(df_2008[column])\n",
        "\n",
        "df_2008['TARGET'] = df_2008['SEQUENCE'].map({'Alcohol': 0, 'Alcohol_DRUGS': 1, 'DRUGS': 2})\n",
        "\n",
        "label_encoders['SEQUENCE'] = LabelEncoder()\n",
        "df_2008['SEQUENCE'] = label_encoders['SEQUENCE'].fit_transform(df_2008['SEQUENCE'])\n",
        "\n",
        "X = df_2008[['METRO', 'AGECAT', 'SEX', 'RACE', 'DAYPART', 'QUARTER', 'CASETYPE']]\n",
        "y = df_2008['TARGET']\n",
        "\n",
        "clf = RandomForestClassifier(n_estimators=100, random_state=0)\n",
        "clf.fit(X, y)\n",
        "\n",
        "importances = clf.feature_importances_\n",
        "feature_names = X.columns.tolist()\n",
        "\n",
        "feature_importances = list(zip(feature_names, importances))\n",
        "sorted_feature_importances = sorted(feature_importances, key=lambda x: x[1], reverse=True)\n",
        "\n",
        "for name, importance in sorted_feature_importances:\n",
        "    print(f\"{name}: {importance}\")"
      ],
      "metadata": {
        "colab": {
          "base_uri": "https://localhost:8080/"
        },
        "id": "laUH-p8n7zOc",
        "outputId": "7b77368f-80f6-4e9e-f77c-2d61fa62ad60"
      },
      "execution_count": null,
      "outputs": [
        {
          "output_type": "stream",
          "name": "stdout",
          "text": [
            "CASETYPE: 0.6675233879483636\n",
            "METRO: 0.11416178536179822\n",
            "AGECAT: 0.05973515009264246\n",
            "DAYPART: 0.048442251344666024\n",
            "RACE: 0.04286578676533291\n",
            "QUARTER: 0.04110697555980499\n",
            "SEX: 0.026164662927391787\n"
          ]
        }
      ]
    },
    {
      "cell_type": "code",
      "source": [
        "label_encoders = {}\n",
        "for column in ['METRO', 'AGECAT', 'SEX', 'RACE', 'CASETYPE', 'DAYPART']:\n",
        "    label_encoders[column] = LabelEncoder()\n",
        "    df_2010[column] = label_encoders[column].fit_transform(df_2010[column])\n",
        "\n",
        "df_2010['TARGET'] = df_2010['SEQUENCE'].map({'Alcohol': 0, 'Alcohol_DRUGS': 1, 'DRUGS': 2})\n",
        "\n",
        "label_encoders['SEQUENCE'] = LabelEncoder()\n",
        "df_2010['SEQUENCE'] = label_encoders['SEQUENCE'].fit_transform(df_2010['SEQUENCE'])\n",
        "\n",
        "X = df_2010[['METRO', 'AGECAT', 'SEX', 'RACE', 'DAYPART', 'QUARTER', 'CASETYPE']]\n",
        "y = df_2010['TARGET']\n",
        "\n",
        "clf = RandomForestClassifier(n_estimators=100, random_state=0)\n",
        "clf.fit(X, y)\n",
        "\n",
        "importances = clf.feature_importances_\n",
        "feature_names = X.columns.tolist()\n",
        "\n",
        "feature_importances = list(zip(feature_names, importances))\n",
        "sorted_feature_importances = sorted(feature_importances, key=lambda x: x[1], reverse=True)\n",
        "\n",
        "for name, importance in sorted_feature_importances:\n",
        "    print(f\"{name}: {importance}\")"
      ],
      "metadata": {
        "colab": {
          "base_uri": "https://localhost:8080/"
        },
        "id": "WLta_QWk71I4",
        "outputId": "21ae5c59-b7b4-48e9-fb9e-3bfa9edd5a40"
      },
      "execution_count": null,
      "outputs": [
        {
          "output_type": "stream",
          "name": "stdout",
          "text": [
            "CASETYPE: 0.6500366675079945\n",
            "METRO: 0.1235493171585457\n",
            "DAYPART: 0.05486216547117194\n",
            "AGECAT: 0.053088277616497336\n",
            "RACE: 0.04566074185640965\n",
            "QUARTER: 0.04333289978490258\n",
            "SEX: 0.029469930604478348\n"
          ]
        }
      ]
    },
    {
      "cell_type": "code",
      "source": [
        "label_encoders = {}\n",
        "for column in ['METRO', 'AGECAT', 'SEX', 'RACE', 'CASETYPE', 'DAYPART']:\n",
        "    label_encoders[column] = LabelEncoder()\n",
        "    df_2011[column] = label_encoders[column].fit_transform(df_2011[column])\n",
        "\n",
        "df_2011['TARGET'] = df_2011['SEQUENCE'].map({'Alcohol': 0, 'Alcohol_DRUGS': 1, 'DRUGS': 2})\n",
        "\n",
        "label_encoders['SEQUENCE'] = LabelEncoder()\n",
        "df_2011['SEQUENCE'] = label_encoders['SEQUENCE'].fit_transform(df_2011['SEQUENCE'])\n",
        "\n",
        "X = df_2011[['METRO', 'AGECAT', 'SEX', 'RACE', 'DAYPART', 'QUARTER', 'CASETYPE']]\n",
        "y = df_2011['TARGET']\n",
        "\n",
        "clf = RandomForestClassifier(n_estimators=100, random_state=0)\n",
        "clf.fit(X, y)\n",
        "\n",
        "importances = clf.feature_importances_\n",
        "feature_names = X.columns.tolist()\n",
        "\n",
        "feature_importances = list(zip(feature_names, importances))\n",
        "sorted_feature_importances = sorted(feature_importances, key=lambda x: x[1], reverse=True)\n",
        "\n",
        "for name, importance in sorted_feature_importances:\n",
        "    print(f\"{name}: {importance}\")"
      ],
      "metadata": {
        "colab": {
          "base_uri": "https://localhost:8080/"
        },
        "id": "kGVRfQO073JA",
        "outputId": "33310d5d-b76f-4f1b-8933-b39149f4f27d"
      },
      "execution_count": null,
      "outputs": [
        {
          "output_type": "stream",
          "name": "stdout",
          "text": [
            "CASETYPE: 0.6184314321164333\n",
            "METRO: 0.14657498559104018\n",
            "DAYPART: 0.054664111236125384\n",
            "RACE: 0.051700807769001544\n",
            "QUARTER: 0.050059814140762465\n",
            "AGECAT: 0.04986441887649682\n",
            "SEX: 0.02870443027014056\n"
          ]
        }
      ]
    },
    {
      "cell_type": "code",
      "source": [
        "sorted_feature_importances = sorted(zip(feature_names, importances), key=lambda x: x[1], reverse=True)\n",
        "\n",
        "\n",
        "import matplotlib.pyplot as plt\n",
        "\n",
        "\n",
        "for name, importance in sorted_feature_importances:\n",
        "\n",
        "    print(f\"{name}: {importance}\")\n",
        "\n",
        "\n",
        "\n",
        "# Plotting the feature importances\n",
        "\n",
        "plt.figure(figsize=(10, 6))\n",
        "\n",
        "plt.bar(range(len(feature_names)), [imp for _, imp in sorted_feature_importances], align='center')\n",
        "\n",
        "plt.xticks(range(len(feature_names)), [name for name, _ in sorted_feature_importances], rotation=45)\n",
        "\n",
        "plt.xlabel('Features')\n",
        "\n",
        "plt.ylabel('Importance')\n",
        "\n",
        "plt.title('Feature Importance from RandomForest Classifier')\n",
        "\n",
        "plt.tight_layout()\n",
        "\n",
        "plt.show()"
      ],
      "metadata": {
        "id": "khgxsjfS75Z0",
        "colab": {
          "base_uri": "https://localhost:8080/",
          "height": 732
        },
        "outputId": "ac1b4dc5-6b68-43e9-a761-c148089e50b0"
      },
      "execution_count": null,
      "outputs": [
        {
          "output_type": "stream",
          "name": "stdout",
          "text": [
            "CASETYPE: 0.6184314321164333\n",
            "METRO: 0.14657498559104018\n",
            "DAYPART: 0.054664111236125384\n",
            "RACE: 0.051700807769001544\n",
            "QUARTER: 0.050059814140762465\n",
            "AGECAT: 0.04986441887649682\n",
            "SEX: 0.02870443027014056\n"
          ]
        },
        {
          "output_type": "display_data",
          "data": {
            "text/plain": [
              "<Figure size 1000x600 with 1 Axes>"
            ],
            "image/png": "[encoded data removed]"
          },
          "metadata": {}
        }
      ]
    }
  ]
}